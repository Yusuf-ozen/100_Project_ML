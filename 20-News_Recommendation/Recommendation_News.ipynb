{
 "cells": [
  {
   "cell_type": "markdown",
   "id": "33329f49",
   "metadata": {},
   "source": [
    "## import libraries"
   ]
  },
  {
   "cell_type": "code",
   "execution_count": 1,
   "id": "15a4ad79",
   "metadata": {},
   "outputs": [],
   "source": [
    "import numpy as np\n",
    "import pandas as pd\n",
    "import matplotlib.pyplot as plt\n",
    "import seaborn as sbn\n",
    "import re\n",
    "import nltk\n",
    "import warnings\n",
    "warnings.filterwarnings('ignore')\n",
    "from textblob import TextBlob\n",
    "from nltk.stem import PorterStemmer\n",
    "from wordcloud import WordCloud, STOPWORDS\n",
    "from nltk.sentiment.vader import SentimentIntensityAnalyzer\n",
    "import plotly.express as px\n",
    "import string\n",
    "from sklearn.feature_extraction import text\n",
    "from sklearn.metrics.pairwise import cosine_similarity\n",
    "from sklearn.feature_extraction.text import TfidfVectorizer\n",
    "from PIL import Image"
   ]
  },
  {
   "cell_type": "code",
   "execution_count": 2,
   "id": "d7a28652",
   "metadata": {},
   "outputs": [],
   "source": [
    "data = pd.read_csv('News.csv')"
   ]
  },
  {
   "cell_type": "markdown",
   "id": "c8d56b87",
   "metadata": {},
   "source": [
    "### EDA"
   ]
  },
  {
   "cell_type": "code",
   "execution_count": 3,
   "id": "608df021",
   "metadata": {},
   "outputs": [
    {
     "data": {
      "text/html": [
       "<div>\n",
       "<style scoped>\n",
       "    .dataframe tbody tr th:only-of-type {\n",
       "        vertical-align: middle;\n",
       "    }\n",
       "\n",
       "    .dataframe tbody tr th {\n",
       "        vertical-align: top;\n",
       "    }\n",
       "\n",
       "    .dataframe thead th {\n",
       "        text-align: right;\n",
       "    }\n",
       "</style>\n",
       "<table border=\"1\" class=\"dataframe\">\n",
       "  <thead>\n",
       "    <tr style=\"text-align: right;\">\n",
       "      <th></th>\n",
       "      <th>ID</th>\n",
       "      <th>News Category</th>\n",
       "      <th>Title</th>\n",
       "      <th>Summary</th>\n",
       "    </tr>\n",
       "  </thead>\n",
       "  <tbody>\n",
       "    <tr>\n",
       "      <th>0</th>\n",
       "      <td>N88753</td>\n",
       "      <td>lifestyle</td>\n",
       "      <td>The Brands Queen Elizabeth, Prince Charles, an...</td>\n",
       "      <td>Shop the notebooks, jackets, and more that the...</td>\n",
       "    </tr>\n",
       "    <tr>\n",
       "      <th>1</th>\n",
       "      <td>N45436</td>\n",
       "      <td>news</td>\n",
       "      <td>Walmart Slashes Prices on Last-Generation iPads</td>\n",
       "      <td>Apple's new iPad releases bring big deals on l...</td>\n",
       "    </tr>\n",
       "    <tr>\n",
       "      <th>2</th>\n",
       "      <td>N23144</td>\n",
       "      <td>health</td>\n",
       "      <td>50 Worst Habits For Belly Fat</td>\n",
       "      <td>These seemingly harmless habits are holding yo...</td>\n",
       "    </tr>\n",
       "    <tr>\n",
       "      <th>3</th>\n",
       "      <td>N86255</td>\n",
       "      <td>health</td>\n",
       "      <td>Dispose of unwanted prescription drugs during ...</td>\n",
       "      <td>NaN</td>\n",
       "    </tr>\n",
       "    <tr>\n",
       "      <th>4</th>\n",
       "      <td>N93187</td>\n",
       "      <td>news</td>\n",
       "      <td>The Cost of Trump's Aid Freeze in the Trenches...</td>\n",
       "      <td>Lt. Ivan Molchanets peeked over a parapet of s...</td>\n",
       "    </tr>\n",
       "  </tbody>\n",
       "</table>\n",
       "</div>"
      ],
      "text/plain": [
       "       ID News Category                                              Title  \\\n",
       "0  N88753     lifestyle  The Brands Queen Elizabeth, Prince Charles, an...   \n",
       "1  N45436          news    Walmart Slashes Prices on Last-Generation iPads   \n",
       "2  N23144        health                      50 Worst Habits For Belly Fat   \n",
       "3  N86255        health  Dispose of unwanted prescription drugs during ...   \n",
       "4  N93187          news  The Cost of Trump's Aid Freeze in the Trenches...   \n",
       "\n",
       "                                             Summary  \n",
       "0  Shop the notebooks, jackets, and more that the...  \n",
       "1  Apple's new iPad releases bring big deals on l...  \n",
       "2  These seemingly harmless habits are holding yo...  \n",
       "3                                                NaN  \n",
       "4  Lt. Ivan Molchanets peeked over a parapet of s...  "
      ]
     },
     "execution_count": 3,
     "metadata": {},
     "output_type": "execute_result"
    }
   ],
   "source": [
    "data.head()"
   ]
  },
  {
   "cell_type": "code",
   "execution_count": 4,
   "id": "2d39c779",
   "metadata": {},
   "outputs": [
    {
     "data": {
      "text/html": [
       "<div>\n",
       "<style scoped>\n",
       "    .dataframe tbody tr th:only-of-type {\n",
       "        vertical-align: middle;\n",
       "    }\n",
       "\n",
       "    .dataframe tbody tr th {\n",
       "        vertical-align: top;\n",
       "    }\n",
       "\n",
       "    .dataframe thead th {\n",
       "        text-align: right;\n",
       "    }\n",
       "</style>\n",
       "<table border=\"1\" class=\"dataframe\">\n",
       "  <thead>\n",
       "    <tr style=\"text-align: right;\">\n",
       "      <th></th>\n",
       "      <th>ID</th>\n",
       "      <th>News Category</th>\n",
       "      <th>Title</th>\n",
       "      <th>Summary</th>\n",
       "    </tr>\n",
       "  </thead>\n",
       "  <tbody>\n",
       "    <tr>\n",
       "      <th>12032</th>\n",
       "      <td>N106378</td>\n",
       "      <td>sports</td>\n",
       "      <td>Terry McLaurin now leads all rookie WRs with 4...</td>\n",
       "      <td>McLaurin's touchdown catch in the second quart...</td>\n",
       "    </tr>\n",
       "    <tr>\n",
       "      <th>45720</th>\n",
       "      <td>N1818</td>\n",
       "      <td>foodanddrink</td>\n",
       "      <td>Christmas Bars Are Popping Up Across Metro Det...</td>\n",
       "      <td>Celebrate the season with spiked eggnog and Sa...</td>\n",
       "    </tr>\n",
       "    <tr>\n",
       "      <th>48974</th>\n",
       "      <td>N119144</td>\n",
       "      <td>autos</td>\n",
       "      <td>2020 Kawasaki Ninja ZX-10R And ZX-6R First Loo...</td>\n",
       "      <td>The 2020 Ninja ZX-10R and ZX-6R combine the la...</td>\n",
       "    </tr>\n",
       "    <tr>\n",
       "      <th>86980</th>\n",
       "      <td>N99712</td>\n",
       "      <td>weather</td>\n",
       "      <td>Large Air Tanker Drops Suppressant on New Sout...</td>\n",
       "      <td>Out-of-control bushfires burning between the N...</td>\n",
       "    </tr>\n",
       "  </tbody>\n",
       "</table>\n",
       "</div>"
      ],
      "text/plain": [
       "            ID News Category  \\\n",
       "12032  N106378        sports   \n",
       "45720    N1818  foodanddrink   \n",
       "48974  N119144         autos   \n",
       "86980   N99712       weather   \n",
       "\n",
       "                                                   Title  \\\n",
       "12032  Terry McLaurin now leads all rookie WRs with 4...   \n",
       "45720  Christmas Bars Are Popping Up Across Metro Det...   \n",
       "48974  2020 Kawasaki Ninja ZX-10R And ZX-6R First Loo...   \n",
       "86980  Large Air Tanker Drops Suppressant on New Sout...   \n",
       "\n",
       "                                                 Summary  \n",
       "12032  McLaurin's touchdown catch in the second quart...  \n",
       "45720  Celebrate the season with spiked eggnog and Sa...  \n",
       "48974  The 2020 Ninja ZX-10R and ZX-6R combine the la...  \n",
       "86980  Out-of-control bushfires burning between the N...  "
      ]
     },
     "execution_count": 4,
     "metadata": {},
     "output_type": "execute_result"
    }
   ],
   "source": [
    "data.sample(4)"
   ]
  },
  {
   "cell_type": "code",
   "execution_count": 5,
   "id": "ce2e399d",
   "metadata": {},
   "outputs": [
    {
     "name": "stdout",
     "output_type": "stream",
     "text": [
      "<class 'pandas.core.frame.DataFrame'>\n",
      "RangeIndex: 101527 entries, 0 to 101526\n",
      "Data columns (total 4 columns):\n",
      " #   Column         Non-Null Count   Dtype \n",
      "---  ------         --------------   ----- \n",
      " 0   ID             101527 non-null  object\n",
      " 1   News Category  101527 non-null  object\n",
      " 2   Title          101527 non-null  object\n",
      " 3   Summary        96112 non-null   object\n",
      "dtypes: object(4)\n",
      "memory usage: 3.1+ MB\n"
     ]
    }
   ],
   "source": [
    "data.info()"
   ]
  },
  {
   "cell_type": "code",
   "execution_count": 6,
   "id": "87cd62f0",
   "metadata": {},
   "outputs": [
    {
     "data": {
      "text/plain": [
       "ID                  0\n",
       "News Category       0\n",
       "Title               0\n",
       "Summary          5415\n",
       "dtype: int64"
      ]
     },
     "execution_count": 6,
     "metadata": {},
     "output_type": "execute_result"
    }
   ],
   "source": [
    "data.isnull().sum()"
   ]
  },
  {
   "cell_type": "code",
   "execution_count": 7,
   "id": "61ee7b19",
   "metadata": {},
   "outputs": [
    {
     "data": {
      "text/plain": [
       "(101527, 4)"
      ]
     },
     "execution_count": 7,
     "metadata": {},
     "output_type": "execute_result"
    }
   ],
   "source": [
    "data.shape"
   ]
  },
  {
   "cell_type": "code",
   "execution_count": 8,
   "id": "f59ce1f5",
   "metadata": {},
   "outputs": [
    {
     "name": "stdout",
     "output_type": "stream",
     "text": [
      "<class 'pandas.core.frame.DataFrame'>\n",
      "Int64Index: 96112 entries, 0 to 101524\n",
      "Data columns (total 4 columns):\n",
      " #   Column         Non-Null Count  Dtype \n",
      "---  ------         --------------  ----- \n",
      " 0   ID             96112 non-null  object\n",
      " 1   News Category  96112 non-null  object\n",
      " 2   Title          96112 non-null  object\n",
      " 3   Summary        96112 non-null  object\n",
      "dtypes: object(4)\n",
      "memory usage: 3.7+ MB\n"
     ]
    }
   ],
   "source": [
    "data.dropna(inplace = True)\n",
    "data.info()"
   ]
  },
  {
   "cell_type": "code",
   "execution_count": 12,
   "id": "00deeae4",
   "metadata": {},
   "outputs": [],
   "source": [
    "data = data[:1000]"
   ]
  },
  {
   "cell_type": "markdown",
   "id": "c88c2960",
   "metadata": {},
   "source": [
    "## New Category column"
   ]
  },
  {
   "cell_type": "code",
   "execution_count": 13,
   "id": "edfc5b13",
   "metadata": {},
   "outputs": [
    {
     "data": {
      "image/png": "[encoded data removed]",
      "text/plain": [
       "<Figure size 720x720 with 1 Axes>"
      ]
     },
     "metadata": {
      "needs_background": "light"
     },
     "output_type": "display_data"
    }
   ],
   "source": [
    "plt.figure(figsize = (10, 10))\n",
    "ax = sbn.countplot(x = data['News Category'])\n",
    "ax.bar_label(ax.containers[0]);\n",
    "plt.xticks(rotation = 90);"
   ]
  },
  {
   "cell_type": "markdown",
   "id": "69dfc242",
   "metadata": {},
   "source": [
    "## Recommending"
   ]
  },
  {
   "cell_type": "code",
   "execution_count": 14,
   "id": "c7b16004",
   "metadata": {},
   "outputs": [],
   "source": [
    "title = data['Title'].tolist()\n",
    "vect = TfidfVectorizer(stop_words = 'english')\n",
    "vect_matrix = vect.fit_transform(title)\n",
    "similarity = cosine_similarity(vect_matrix)"
   ]
  },
  {
   "cell_type": "code",
   "execution_count": 15,
   "id": "f4e6eb74",
   "metadata": {},
   "outputs": [],
   "source": [
    "indices = pd.Series(data.index, index = data['Title']).drop_duplicates()"
   ]
  },
  {
   "cell_type": "code",
   "execution_count": 16,
   "id": "59704d55",
   "metadata": {},
   "outputs": [],
   "source": [
    "def news_recommendation(title, similarity_matrix=similarity, indices=indices):\n",
    "    index = indices[title]\n",
    "    scores = list(enumerate(similarity_matrix[index]))\n",
    "    scores = sorted(scores, key=lambda x: x[1], reverse=True)\n",
    "    scores = scores[:10]\n",
    "    news_indices = [i[0] for i in scores]\n",
    "    recommended_news = data['Title'].iloc[news_indices]\n",
    "    return recommended_news"
   ]
  },
  {
   "cell_type": "code",
   "execution_count": 20,
   "id": "e674b8c4",
   "metadata": {},
   "outputs": [
    {
     "data": {
      "text/plain": [
       "'Ford Bronco Test Mule Spotted Flexing Its Muscles in Australia'"
      ]
     },
     "execution_count": 20,
     "metadata": {},
     "output_type": "execute_result"
    }
   ],
   "source": [
    "data['Title'][35]"
   ]
  },
  {
   "cell_type": "code",
   "execution_count": 21,
   "id": "fc5c10de",
   "metadata": {},
   "outputs": [
    {
     "data": {
      "text/plain": [
       "37                                      PGA Tour winners\n",
       "608    Tour the abandoned Outlaw House with an FBI co...\n",
       "799    The 2020 Ducati Multistrada 1260 S Grand Tour ...\n",
       "0      The Brands Queen Elizabeth, Prince Charles, an...\n",
       "1        Walmart Slashes Prices on Last-Generation iPads\n",
       "2                          50 Worst Habits For Belly Fat\n",
       "4      The Cost of Trump's Aid Freeze in the Trenches...\n",
       "5      I Was An NBA Wife. Here's How It Affected My M...\n",
       "6      How to Get Rid of Skin Tags, According to a De...\n",
       "8      Should NFL be able to fine players for critici...\n",
       "Name: Title, dtype: object"
      ]
     },
     "execution_count": 21,
     "metadata": {},
     "output_type": "execute_result"
    }
   ],
   "source": [
    "news_recommendation('Ford Bronco Test Mule Spotted Flexing Its Muscles in Australia')"
   ]
  },
  {
   "cell_type": "code",
   "execution_count": 22,
   "id": "3079888d",
   "metadata": {},
   "outputs": [
    {
     "data": {
      "text/plain": [
       "'19 Things You Can Add to Your Home That Marie Kondo Would Approve Of'"
      ]
     },
     "execution_count": 22,
     "metadata": {},
     "output_type": "execute_result"
    }
   ],
   "source": [
    "data['Title'][349]"
   ]
  },
  {
   "cell_type": "code",
   "execution_count": 23,
   "id": "04805cde",
   "metadata": {},
   "outputs": [
    {
     "data": {
      "text/plain": [
       "366     World No. 1, J.Y. Ko, returns to LPGA action t...\n",
       "435     A question as the Cross-Bay Ferry returns: Wha...\n",
       "653     The Action Network: Early pick with best value...\n",
       "952     14 action-packed shows that deserve a spot on ...\n",
       "920     Salah misses Liverpool trip to Man Utd, Alisso...\n",
       "676     15 of the Most Unique Restaurants Around the W...\n",
       "395     Wolverines in the NFL: Top performances from W...\n",
       "430     Wolverines in the NFL: Top performances from W...\n",
       "101     16 Live-Action Disney Movies in the Works Afte...\n",
       "1008    Newman returns, helps No. 23 Wake Forest top N...\n",
       "Name: Title, dtype: object"
      ]
     },
     "execution_count": 23,
     "metadata": {},
     "output_type": "execute_result"
    }
   ],
   "source": [
    "news_recommendation('19 Things You Can Add to Your Home That Marie Kondo Would Approve Of')"
   ]
  },
  {
   "cell_type": "code",
   "execution_count": null,
   "id": "dc5cdde4",
   "metadata": {},
   "outputs": [],
   "source": []
  }
 ],
 "metadata": {
  "kernelspec": {
   "display_name": "Python 3 (ipykernel)",
   "language": "python",
   "name": "python3"
  },
  "language_info": {
   "codemirror_mode": {
    "name": "ipython",
    "version": 3
   },
   "file_extension": ".py",
   "mimetype": "text/x-python",
   "name": "python",
   "nbconvert_exporter": "python",
   "pygments_lexer": "ipython3",
   "version": "3.9.12"
  }
 },
 "nbformat": 4,
 "nbformat_minor": 5
}
