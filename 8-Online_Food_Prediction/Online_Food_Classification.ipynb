{
 "cells": [
  {
   "cell_type": "markdown",
   "id": "726cafaa",
   "metadata": {},
   "source": [
    "## import libraries"
   ]
  },
  {
   "cell_type": "code",
   "execution_count": 41,
   "id": "b80dbe09",
   "metadata": {},
   "outputs": [],
   "source": [
    "import numpy as np\n",
    "import pandas as pd\n",
    "import matplotlib.pyplot as plt\n",
    "import seaborn as sbn\n",
    "import plotly.express as px\n",
    "import warnings\n",
    "warnings.filterwarnings('ignore')\n",
    "from sklearn.model_selection import train_test_split\n",
    "from sklearn.linear_model import LogisticRegression\n",
    "from sklearn.tree import DecisionTreeClassifier, ExtraTreeClassifier\n",
    "from sklearn.ensemble import RandomForestClassifier, ExtraTreesClassifier\n",
    "from sklearn.naive_bayes import BernoulliNB, GaussianNB\n",
    "from sklearn.svm import SVC\n",
    "from sklearn.ensemble import GradientBoostingClassifier, AdaBoostClassifier, HistGradientBoostingClassifier, BaggingClassifier\n",
    "from xgboost import XGBClassifier\n",
    "from sklearn.preprocessing import StandardScaler, MinMaxScaler\n",
    "from sklearn.metrics import accuracy_score, f1_score\n",
    "from tensorflow.keras.models import Sequential\n",
    "from tensorflow.keras.layers import Dense\n",
    "from tensorflow.keras.callbacks import EarlyStopping"
   ]
  },
  {
   "cell_type": "code",
   "execution_count": 2,
   "id": "1d570593",
   "metadata": {},
   "outputs": [],
   "source": [
    "data = pd.read_csv('food.csv')\n",
    "df = pd.read_csv('food.csv')"
   ]
  },
  {
   "cell_type": "markdown",
   "id": "28d136be",
   "metadata": {},
   "source": [
    "## EDA"
   ]
  },
  {
   "cell_type": "code",
   "execution_count": 3,
   "id": "e7e316c6",
   "metadata": {},
   "outputs": [
    {
     "data": {
      "text/html": [
       "<div>\n",
       "<style scoped>\n",
       "    .dataframe tbody tr th:only-of-type {\n",
       "        vertical-align: middle;\n",
       "    }\n",
       "\n",
       "    .dataframe tbody tr th {\n",
       "        vertical-align: top;\n",
       "    }\n",
       "\n",
       "    .dataframe thead th {\n",
       "        text-align: right;\n",
       "    }\n",
       "</style>\n",
       "<table border=\"1\" class=\"dataframe\">\n",
       "  <thead>\n",
       "    <tr style=\"text-align: right;\">\n",
       "      <th></th>\n",
       "      <th>Age</th>\n",
       "      <th>Gender</th>\n",
       "      <th>Marital Status</th>\n",
       "      <th>Occupation</th>\n",
       "      <th>Monthly Income</th>\n",
       "      <th>Educational Qualifications</th>\n",
       "      <th>Family size</th>\n",
       "      <th>latitude</th>\n",
       "      <th>longitude</th>\n",
       "      <th>Pin code</th>\n",
       "      <th>Output</th>\n",
       "      <th>Feedback</th>\n",
       "      <th>Unnamed: 12</th>\n",
       "    </tr>\n",
       "  </thead>\n",
       "  <tbody>\n",
       "    <tr>\n",
       "      <th>0</th>\n",
       "      <td>20</td>\n",
       "      <td>Female</td>\n",
       "      <td>Single</td>\n",
       "      <td>Student</td>\n",
       "      <td>No Income</td>\n",
       "      <td>Post Graduate</td>\n",
       "      <td>4</td>\n",
       "      <td>12.9766</td>\n",
       "      <td>77.5993</td>\n",
       "      <td>560001</td>\n",
       "      <td>Yes</td>\n",
       "      <td>Positive</td>\n",
       "      <td>Yes</td>\n",
       "    </tr>\n",
       "    <tr>\n",
       "      <th>1</th>\n",
       "      <td>24</td>\n",
       "      <td>Female</td>\n",
       "      <td>Single</td>\n",
       "      <td>Student</td>\n",
       "      <td>Below Rs.10000</td>\n",
       "      <td>Graduate</td>\n",
       "      <td>3</td>\n",
       "      <td>12.9770</td>\n",
       "      <td>77.5773</td>\n",
       "      <td>560009</td>\n",
       "      <td>Yes</td>\n",
       "      <td>Positive</td>\n",
       "      <td>Yes</td>\n",
       "    </tr>\n",
       "    <tr>\n",
       "      <th>2</th>\n",
       "      <td>22</td>\n",
       "      <td>Male</td>\n",
       "      <td>Single</td>\n",
       "      <td>Student</td>\n",
       "      <td>Below Rs.10000</td>\n",
       "      <td>Post Graduate</td>\n",
       "      <td>3</td>\n",
       "      <td>12.9551</td>\n",
       "      <td>77.6593</td>\n",
       "      <td>560017</td>\n",
       "      <td>Yes</td>\n",
       "      <td>Negative</td>\n",
       "      <td>Yes</td>\n",
       "    </tr>\n",
       "    <tr>\n",
       "      <th>3</th>\n",
       "      <td>22</td>\n",
       "      <td>Female</td>\n",
       "      <td>Single</td>\n",
       "      <td>Student</td>\n",
       "      <td>No Income</td>\n",
       "      <td>Graduate</td>\n",
       "      <td>6</td>\n",
       "      <td>12.9473</td>\n",
       "      <td>77.5616</td>\n",
       "      <td>560019</td>\n",
       "      <td>Yes</td>\n",
       "      <td>Positive</td>\n",
       "      <td>Yes</td>\n",
       "    </tr>\n",
       "    <tr>\n",
       "      <th>4</th>\n",
       "      <td>22</td>\n",
       "      <td>Male</td>\n",
       "      <td>Single</td>\n",
       "      <td>Student</td>\n",
       "      <td>Below Rs.10000</td>\n",
       "      <td>Post Graduate</td>\n",
       "      <td>4</td>\n",
       "      <td>12.9850</td>\n",
       "      <td>77.5533</td>\n",
       "      <td>560010</td>\n",
       "      <td>Yes</td>\n",
       "      <td>Positive</td>\n",
       "      <td>Yes</td>\n",
       "    </tr>\n",
       "  </tbody>\n",
       "</table>\n",
       "</div>"
      ],
      "text/plain": [
       "   Age  Gender Marital Status Occupation  Monthly Income  \\\n",
       "0   20  Female         Single    Student       No Income   \n",
       "1   24  Female         Single    Student  Below Rs.10000   \n",
       "2   22    Male         Single    Student  Below Rs.10000   \n",
       "3   22  Female         Single    Student       No Income   \n",
       "4   22    Male         Single    Student  Below Rs.10000   \n",
       "\n",
       "  Educational Qualifications  Family size  latitude  longitude  Pin code  \\\n",
       "0              Post Graduate            4   12.9766    77.5993    560001   \n",
       "1                   Graduate            3   12.9770    77.5773    560009   \n",
       "2              Post Graduate            3   12.9551    77.6593    560017   \n",
       "3                   Graduate            6   12.9473    77.5616    560019   \n",
       "4              Post Graduate            4   12.9850    77.5533    560010   \n",
       "\n",
       "  Output   Feedback Unnamed: 12  \n",
       "0    Yes   Positive         Yes  \n",
       "1    Yes   Positive         Yes  \n",
       "2    Yes  Negative          Yes  \n",
       "3    Yes   Positive         Yes  \n",
       "4    Yes   Positive         Yes  "
      ]
     },
     "execution_count": 3,
     "metadata": {},
     "output_type": "execute_result"
    }
   ],
   "source": [
    "data.head()"
   ]
  },
  {
   "cell_type": "code",
   "execution_count": 4,
   "id": "2472fb6f",
   "metadata": {},
   "outputs": [
    {
     "data": {
      "text/html": [
       "<div>\n",
       "<style scoped>\n",
       "    .dataframe tbody tr th:only-of-type {\n",
       "        vertical-align: middle;\n",
       "    }\n",
       "\n",
       "    .dataframe tbody tr th {\n",
       "        vertical-align: top;\n",
       "    }\n",
       "\n",
       "    .dataframe thead th {\n",
       "        text-align: right;\n",
       "    }\n",
       "</style>\n",
       "<table border=\"1\" class=\"dataframe\">\n",
       "  <thead>\n",
       "    <tr style=\"text-align: right;\">\n",
       "      <th></th>\n",
       "      <th>Age</th>\n",
       "      <th>Gender</th>\n",
       "      <th>Marital Status</th>\n",
       "      <th>Occupation</th>\n",
       "      <th>Monthly Income</th>\n",
       "      <th>Educational Qualifications</th>\n",
       "      <th>Family size</th>\n",
       "      <th>latitude</th>\n",
       "      <th>longitude</th>\n",
       "      <th>Pin code</th>\n",
       "      <th>Output</th>\n",
       "      <th>Feedback</th>\n",
       "      <th>Unnamed: 12</th>\n",
       "    </tr>\n",
       "  </thead>\n",
       "  <tbody>\n",
       "    <tr>\n",
       "      <th>234</th>\n",
       "      <td>25</td>\n",
       "      <td>Male</td>\n",
       "      <td>Married</td>\n",
       "      <td>Employee</td>\n",
       "      <td>More than 50000</td>\n",
       "      <td>Ph.D</td>\n",
       "      <td>3</td>\n",
       "      <td>12.9306</td>\n",
       "      <td>77.5434</td>\n",
       "      <td>560085</td>\n",
       "      <td>Yes</td>\n",
       "      <td>Positive</td>\n",
       "      <td>Yes</td>\n",
       "    </tr>\n",
       "    <tr>\n",
       "      <th>31</th>\n",
       "      <td>22</td>\n",
       "      <td>Male</td>\n",
       "      <td>Single</td>\n",
       "      <td>Student</td>\n",
       "      <td>No Income</td>\n",
       "      <td>Post Graduate</td>\n",
       "      <td>4</td>\n",
       "      <td>12.9783</td>\n",
       "      <td>77.6408</td>\n",
       "      <td>560038</td>\n",
       "      <td>Yes</td>\n",
       "      <td>Positive</td>\n",
       "      <td>Yes</td>\n",
       "    </tr>\n",
       "    <tr>\n",
       "      <th>333</th>\n",
       "      <td>29</td>\n",
       "      <td>Male</td>\n",
       "      <td>Married</td>\n",
       "      <td>Employee</td>\n",
       "      <td>25001 to 50000</td>\n",
       "      <td>Graduate</td>\n",
       "      <td>4</td>\n",
       "      <td>12.9261</td>\n",
       "      <td>77.6221</td>\n",
       "      <td>560034</td>\n",
       "      <td>No</td>\n",
       "      <td>Negative</td>\n",
       "      <td>No</td>\n",
       "    </tr>\n",
       "    <tr>\n",
       "      <th>182</th>\n",
       "      <td>22</td>\n",
       "      <td>Female</td>\n",
       "      <td>Single</td>\n",
       "      <td>Employee</td>\n",
       "      <td>25001 to 50000</td>\n",
       "      <td>Graduate</td>\n",
       "      <td>4</td>\n",
       "      <td>12.9698</td>\n",
       "      <td>77.7500</td>\n",
       "      <td>560066</td>\n",
       "      <td>Yes</td>\n",
       "      <td>Positive</td>\n",
       "      <td>Yes</td>\n",
       "    </tr>\n",
       "    <tr>\n",
       "      <th>294</th>\n",
       "      <td>25</td>\n",
       "      <td>Female</td>\n",
       "      <td>Prefer not to say</td>\n",
       "      <td>Employee</td>\n",
       "      <td>25001 to 50000</td>\n",
       "      <td>Post Graduate</td>\n",
       "      <td>3</td>\n",
       "      <td>12.9980</td>\n",
       "      <td>77.6227</td>\n",
       "      <td>560005</td>\n",
       "      <td>No</td>\n",
       "      <td>Negative</td>\n",
       "      <td>No</td>\n",
       "    </tr>\n",
       "  </tbody>\n",
       "</table>\n",
       "</div>"
      ],
      "text/plain": [
       "     Age  Gender     Marital Status Occupation   Monthly Income  \\\n",
       "234   25    Male            Married   Employee  More than 50000   \n",
       "31    22    Male             Single    Student        No Income   \n",
       "333   29    Male            Married   Employee   25001 to 50000   \n",
       "182   22  Female             Single   Employee   25001 to 50000   \n",
       "294   25  Female  Prefer not to say   Employee   25001 to 50000   \n",
       "\n",
       "    Educational Qualifications  Family size  latitude  longitude  Pin code  \\\n",
       "234                       Ph.D            3   12.9306    77.5434    560085   \n",
       "31               Post Graduate            4   12.9783    77.6408    560038   \n",
       "333                   Graduate            4   12.9261    77.6221    560034   \n",
       "182                   Graduate            4   12.9698    77.7500    560066   \n",
       "294              Post Graduate            3   12.9980    77.6227    560005   \n",
       "\n",
       "    Output   Feedback Unnamed: 12  \n",
       "234    Yes   Positive         Yes  \n",
       "31     Yes   Positive         Yes  \n",
       "333     No  Negative           No  \n",
       "182    Yes   Positive         Yes  \n",
       "294     No  Negative           No  "
      ]
     },
     "execution_count": 4,
     "metadata": {},
     "output_type": "execute_result"
    }
   ],
   "source": [
    "data.sample(5)"
   ]
  },
  {
   "cell_type": "code",
   "execution_count": 5,
   "id": "3a2e6628",
   "metadata": {},
   "outputs": [
    {
     "name": "stdout",
     "output_type": "stream",
     "text": [
      "<class 'pandas.core.frame.DataFrame'>\n",
      "RangeIndex: 388 entries, 0 to 387\n",
      "Data columns (total 13 columns):\n",
      " #   Column                      Non-Null Count  Dtype  \n",
      "---  ------                      --------------  -----  \n",
      " 0   Age                         388 non-null    int64  \n",
      " 1   Gender                      388 non-null    object \n",
      " 2   Marital Status              388 non-null    object \n",
      " 3   Occupation                  388 non-null    object \n",
      " 4   Monthly Income              388 non-null    object \n",
      " 5   Educational Qualifications  388 non-null    object \n",
      " 6   Family size                 388 non-null    int64  \n",
      " 7   latitude                    388 non-null    float64\n",
      " 8   longitude                   388 non-null    float64\n",
      " 9   Pin code                    388 non-null    int64  \n",
      " 10  Output                      388 non-null    object \n",
      " 11  Feedback                    388 non-null    object \n",
      " 12  Unnamed: 12                 388 non-null    object \n",
      "dtypes: float64(2), int64(3), object(8)\n",
      "memory usage: 39.5+ KB\n"
     ]
    }
   ],
   "source": [
    "data.info()"
   ]
  },
  {
   "cell_type": "code",
   "execution_count": 6,
   "id": "f73ff1f1",
   "metadata": {},
   "outputs": [],
   "source": [
    "data.columns = data.columns.str.replace(' ', '_')"
   ]
  },
  {
   "cell_type": "code",
   "execution_count": 7,
   "id": "579dd1bf",
   "metadata": {},
   "outputs": [
    {
     "data": {
      "text/plain": [
       "Age                           0\n",
       "Gender                        0\n",
       "Marital_Status                0\n",
       "Occupation                    0\n",
       "Monthly_Income                0\n",
       "Educational_Qualifications    0\n",
       "Family_size                   0\n",
       "latitude                      0\n",
       "longitude                     0\n",
       "Pin_code                      0\n",
       "Output                        0\n",
       "Feedback                      0\n",
       "Unnamed:_12                   0\n",
       "dtype: int64"
      ]
     },
     "execution_count": 7,
     "metadata": {},
     "output_type": "execute_result"
    }
   ],
   "source": [
    "data.isna().sum()"
   ]
  },
  {
   "cell_type": "code",
   "execution_count": 8,
   "id": "7bad1661",
   "metadata": {},
   "outputs": [
    {
     "data": {
      "text/html": [
       "<div>\n",
       "<style scoped>\n",
       "    .dataframe tbody tr th:only-of-type {\n",
       "        vertical-align: middle;\n",
       "    }\n",
       "\n",
       "    .dataframe tbody tr th {\n",
       "        vertical-align: top;\n",
       "    }\n",
       "\n",
       "    .dataframe thead th {\n",
       "        text-align: right;\n",
       "    }\n",
       "</style>\n",
       "<table border=\"1\" class=\"dataframe\">\n",
       "  <thead>\n",
       "    <tr style=\"text-align: right;\">\n",
       "      <th></th>\n",
       "      <th>Age</th>\n",
       "      <th>Family_size</th>\n",
       "      <th>latitude</th>\n",
       "      <th>longitude</th>\n",
       "      <th>Pin_code</th>\n",
       "    </tr>\n",
       "  </thead>\n",
       "  <tbody>\n",
       "    <tr>\n",
       "      <th>count</th>\n",
       "      <td>388.000000</td>\n",
       "      <td>388.000000</td>\n",
       "      <td>388.000000</td>\n",
       "      <td>388.000000</td>\n",
       "      <td>388.000000</td>\n",
       "    </tr>\n",
       "    <tr>\n",
       "      <th>mean</th>\n",
       "      <td>24.628866</td>\n",
       "      <td>3.280928</td>\n",
       "      <td>12.972058</td>\n",
       "      <td>77.600160</td>\n",
       "      <td>560040.113402</td>\n",
       "    </tr>\n",
       "    <tr>\n",
       "      <th>std</th>\n",
       "      <td>2.975593</td>\n",
       "      <td>1.351025</td>\n",
       "      <td>0.044489</td>\n",
       "      <td>0.051354</td>\n",
       "      <td>31.399609</td>\n",
       "    </tr>\n",
       "    <tr>\n",
       "      <th>min</th>\n",
       "      <td>18.000000</td>\n",
       "      <td>1.000000</td>\n",
       "      <td>12.865200</td>\n",
       "      <td>77.484200</td>\n",
       "      <td>560001.000000</td>\n",
       "    </tr>\n",
       "    <tr>\n",
       "      <th>25%</th>\n",
       "      <td>23.000000</td>\n",
       "      <td>2.000000</td>\n",
       "      <td>12.936900</td>\n",
       "      <td>77.565275</td>\n",
       "      <td>560010.750000</td>\n",
       "    </tr>\n",
       "    <tr>\n",
       "      <th>50%</th>\n",
       "      <td>24.000000</td>\n",
       "      <td>3.000000</td>\n",
       "      <td>12.977000</td>\n",
       "      <td>77.592100</td>\n",
       "      <td>560033.500000</td>\n",
       "    </tr>\n",
       "    <tr>\n",
       "      <th>75%</th>\n",
       "      <td>26.000000</td>\n",
       "      <td>4.000000</td>\n",
       "      <td>12.997025</td>\n",
       "      <td>77.630900</td>\n",
       "      <td>560068.000000</td>\n",
       "    </tr>\n",
       "    <tr>\n",
       "      <th>max</th>\n",
       "      <td>33.000000</td>\n",
       "      <td>6.000000</td>\n",
       "      <td>13.102000</td>\n",
       "      <td>77.758200</td>\n",
       "      <td>560109.000000</td>\n",
       "    </tr>\n",
       "  </tbody>\n",
       "</table>\n",
       "</div>"
      ],
      "text/plain": [
       "              Age  Family_size    latitude   longitude       Pin_code\n",
       "count  388.000000   388.000000  388.000000  388.000000     388.000000\n",
       "mean    24.628866     3.280928   12.972058   77.600160  560040.113402\n",
       "std      2.975593     1.351025    0.044489    0.051354      31.399609\n",
       "min     18.000000     1.000000   12.865200   77.484200  560001.000000\n",
       "25%     23.000000     2.000000   12.936900   77.565275  560010.750000\n",
       "50%     24.000000     3.000000   12.977000   77.592100  560033.500000\n",
       "75%     26.000000     4.000000   12.997025   77.630900  560068.000000\n",
       "max     33.000000     6.000000   13.102000   77.758200  560109.000000"
      ]
     },
     "execution_count": 8,
     "metadata": {},
     "output_type": "execute_result"
    }
   ],
   "source": [
    "data.describe()"
   ]
  },
  {
   "cell_type": "code",
   "execution_count": 9,
   "id": "2cc2b4a8",
   "metadata": {},
   "outputs": [
    {
     "data": {
      "text/html": [
       "<div>\n",
       "<style scoped>\n",
       "    .dataframe tbody tr th:only-of-type {\n",
       "        vertical-align: middle;\n",
       "    }\n",
       "\n",
       "    .dataframe tbody tr th {\n",
       "        vertical-align: top;\n",
       "    }\n",
       "\n",
       "    .dataframe thead th {\n",
       "        text-align: right;\n",
       "    }\n",
       "</style>\n",
       "<table border=\"1\" class=\"dataframe\">\n",
       "  <thead>\n",
       "    <tr style=\"text-align: right;\">\n",
       "      <th></th>\n",
       "      <th>Gender</th>\n",
       "      <th>Marital_Status</th>\n",
       "      <th>Occupation</th>\n",
       "      <th>Monthly_Income</th>\n",
       "      <th>Educational_Qualifications</th>\n",
       "      <th>Output</th>\n",
       "      <th>Feedback</th>\n",
       "      <th>Unnamed:_12</th>\n",
       "    </tr>\n",
       "  </thead>\n",
       "  <tbody>\n",
       "    <tr>\n",
       "      <th>count</th>\n",
       "      <td>388</td>\n",
       "      <td>388</td>\n",
       "      <td>388</td>\n",
       "      <td>388</td>\n",
       "      <td>388</td>\n",
       "      <td>388</td>\n",
       "      <td>388</td>\n",
       "      <td>388</td>\n",
       "    </tr>\n",
       "    <tr>\n",
       "      <th>unique</th>\n",
       "      <td>2</td>\n",
       "      <td>3</td>\n",
       "      <td>4</td>\n",
       "      <td>5</td>\n",
       "      <td>5</td>\n",
       "      <td>2</td>\n",
       "      <td>2</td>\n",
       "      <td>2</td>\n",
       "    </tr>\n",
       "    <tr>\n",
       "      <th>top</th>\n",
       "      <td>Male</td>\n",
       "      <td>Single</td>\n",
       "      <td>Student</td>\n",
       "      <td>No Income</td>\n",
       "      <td>Graduate</td>\n",
       "      <td>Yes</td>\n",
       "      <td>Positive</td>\n",
       "      <td>Yes</td>\n",
       "    </tr>\n",
       "    <tr>\n",
       "      <th>freq</th>\n",
       "      <td>222</td>\n",
       "      <td>268</td>\n",
       "      <td>207</td>\n",
       "      <td>187</td>\n",
       "      <td>177</td>\n",
       "      <td>301</td>\n",
       "      <td>317</td>\n",
       "      <td>301</td>\n",
       "    </tr>\n",
       "  </tbody>\n",
       "</table>\n",
       "</div>"
      ],
      "text/plain": [
       "       Gender Marital_Status Occupation Monthly_Income  \\\n",
       "count     388            388        388            388   \n",
       "unique      2              3          4              5   \n",
       "top      Male         Single    Student      No Income   \n",
       "freq      222            268        207            187   \n",
       "\n",
       "       Educational_Qualifications Output  Feedback Unnamed:_12  \n",
       "count                         388    388       388         388  \n",
       "unique                          5      2         2           2  \n",
       "top                      Graduate    Yes  Positive         Yes  \n",
       "freq                          177    301       317         301  "
      ]
     },
     "execution_count": 9,
     "metadata": {},
     "output_type": "execute_result"
    }
   ],
   "source": [
    "data.describe(include = object)"
   ]
  },
  {
   "cell_type": "markdown",
   "id": "47a2ebaa",
   "metadata": {},
   "source": [
    "## Sütunları inceleyelim"
   ]
  },
  {
   "cell_type": "code",
   "execution_count": 10,
   "id": "40e62c93",
   "metadata": {},
   "outputs": [
    {
     "data": {
      "text/plain": [
       "Index(['Age', 'Gender', 'Marital_Status', 'Occupation', 'Monthly_Income',\n",
       "       'Educational_Qualifications', 'Family_size', 'latitude', 'longitude',\n",
       "       'Pin_code', 'Output', 'Feedback', 'Unnamed:_12'],\n",
       "      dtype='object')"
      ]
     },
     "execution_count": 10,
     "metadata": {},
     "output_type": "execute_result"
    }
   ],
   "source": [
    "data.columns"
   ]
  },
  {
   "cell_type": "code",
   "execution_count": 11,
   "id": "894357d0",
   "metadata": {},
   "outputs": [
    {
     "data": {
      "image/png": "[encoded data removed]",
      "text/plain": [
       "<Figure size 432x360 with 1 Axes>"
      ]
     },
     "metadata": {
      "needs_background": "light"
     },
     "output_type": "display_data"
    }
   ],
   "source": [
    "plt.figure(figsize = (6, 5))\n",
    "ax = sbn.countplot(data.Gender, hue = data.Feedback)\n",
    "ax.bar_label(ax.containers[0]);\n",
    "ax.bar_label(ax.containers[1]);"
   ]
  },
  {
   "cell_type": "code",
   "execution_count": 75,
   "id": "2217d1a8",
   "metadata": {},
   "outputs": [
    {
     "data": {
      "image/png": "[encoded data removed]",
      "text/plain": [
       "<Figure size 720x504 with 1 Axes>"
      ]
     },
     "metadata": {
      "needs_background": "light"
     },
     "output_type": "display_data"
    }
   ],
   "source": [
    "plt.figure(figsize = (10,7))\n",
    "sbn.histplot(x = 'Age', hue = 'Output', data = data, kde = True, color = 'red');\n",
    "plt.show()"
   ]
  },
  {
   "cell_type": "code",
   "execution_count": 76,
   "id": "6cda3432",
   "metadata": {},
   "outputs": [
    {
     "data": {
      "image/png": "[encoded data removed]",
      "text/plain": [
       "<Figure size 720x504 with 1 Axes>"
      ]
     },
     "metadata": {
      "needs_background": "light"
     },
     "output_type": "display_data"
    }
   ],
   "source": [
    "plt.figure(figsize = (10,7))\n",
    "sbn.histplot(x = 'Family_size', hue = 'Output', data = data, kde = True, color = 'green');\n",
    "plt.show()"
   ]
  },
  {
   "cell_type": "markdown",
   "id": "fd964d7e",
   "metadata": {},
   "source": [
    "### object olmaması gerekenleri numerik değerlere dondurelim."
   ]
  },
  {
   "cell_type": "code",
   "execution_count": 14,
   "id": "b8ac39e0",
   "metadata": {},
   "outputs": [
    {
     "data": {
      "text/html": [
       "<div>\n",
       "<style scoped>\n",
       "    .dataframe tbody tr th:only-of-type {\n",
       "        vertical-align: middle;\n",
       "    }\n",
       "\n",
       "    .dataframe tbody tr th {\n",
       "        vertical-align: top;\n",
       "    }\n",
       "\n",
       "    .dataframe thead th {\n",
       "        text-align: right;\n",
       "    }\n",
       "</style>\n",
       "<table border=\"1\" class=\"dataframe\">\n",
       "  <thead>\n",
       "    <tr style=\"text-align: right;\">\n",
       "      <th></th>\n",
       "      <th>Age</th>\n",
       "      <th>Gender</th>\n",
       "      <th>Marital_Status</th>\n",
       "      <th>Occupation</th>\n",
       "      <th>Monthly_Income</th>\n",
       "      <th>Educational_Qualifications</th>\n",
       "      <th>Family_size</th>\n",
       "      <th>latitude</th>\n",
       "      <th>longitude</th>\n",
       "      <th>Pin_code</th>\n",
       "      <th>Output</th>\n",
       "      <th>Feedback</th>\n",
       "      <th>Unnamed:_12</th>\n",
       "    </tr>\n",
       "  </thead>\n",
       "  <tbody>\n",
       "    <tr>\n",
       "      <th>77</th>\n",
       "      <td>21</td>\n",
       "      <td>Male</td>\n",
       "      <td>Single</td>\n",
       "      <td>Student</td>\n",
       "      <td>No Income</td>\n",
       "      <td>Graduate</td>\n",
       "      <td>4</td>\n",
       "      <td>12.9770</td>\n",
       "      <td>77.5773</td>\n",
       "      <td>560009</td>\n",
       "      <td>Yes</td>\n",
       "      <td>Positive</td>\n",
       "      <td>Yes</td>\n",
       "    </tr>\n",
       "    <tr>\n",
       "      <th>52</th>\n",
       "      <td>24</td>\n",
       "      <td>Male</td>\n",
       "      <td>Single</td>\n",
       "      <td>Student</td>\n",
       "      <td>No Income</td>\n",
       "      <td>Post Graduate</td>\n",
       "      <td>3</td>\n",
       "      <td>12.9770</td>\n",
       "      <td>77.5773</td>\n",
       "      <td>560009</td>\n",
       "      <td>Yes</td>\n",
       "      <td>Positive</td>\n",
       "      <td>Yes</td>\n",
       "    </tr>\n",
       "    <tr>\n",
       "      <th>32</th>\n",
       "      <td>25</td>\n",
       "      <td>Male</td>\n",
       "      <td>Married</td>\n",
       "      <td>Employee</td>\n",
       "      <td>More than 50000</td>\n",
       "      <td>Ph.D</td>\n",
       "      <td>4</td>\n",
       "      <td>12.9261</td>\n",
       "      <td>77.6221</td>\n",
       "      <td>560034</td>\n",
       "      <td>Yes</td>\n",
       "      <td>Positive</td>\n",
       "      <td>Yes</td>\n",
       "    </tr>\n",
       "    <tr>\n",
       "      <th>301</th>\n",
       "      <td>22</td>\n",
       "      <td>Female</td>\n",
       "      <td>Single</td>\n",
       "      <td>Student</td>\n",
       "      <td>No Income</td>\n",
       "      <td>Graduate</td>\n",
       "      <td>6</td>\n",
       "      <td>12.9473</td>\n",
       "      <td>77.5616</td>\n",
       "      <td>560019</td>\n",
       "      <td>Yes</td>\n",
       "      <td>Positive</td>\n",
       "      <td>Yes</td>\n",
       "    </tr>\n",
       "    <tr>\n",
       "      <th>121</th>\n",
       "      <td>26</td>\n",
       "      <td>Male</td>\n",
       "      <td>Single</td>\n",
       "      <td>Self Employeed</td>\n",
       "      <td>25001 to 50000</td>\n",
       "      <td>Graduate</td>\n",
       "      <td>3</td>\n",
       "      <td>12.9766</td>\n",
       "      <td>77.5993</td>\n",
       "      <td>560001</td>\n",
       "      <td>Yes</td>\n",
       "      <td>Positive</td>\n",
       "      <td>Yes</td>\n",
       "    </tr>\n",
       "  </tbody>\n",
       "</table>\n",
       "</div>"
      ],
      "text/plain": [
       "     Age  Gender Marital_Status      Occupation   Monthly_Income  \\\n",
       "77    21    Male         Single         Student        No Income   \n",
       "52    24    Male         Single         Student        No Income   \n",
       "32    25    Male        Married        Employee  More than 50000   \n",
       "301   22  Female         Single         Student        No Income   \n",
       "121   26    Male         Single  Self Employeed   25001 to 50000   \n",
       "\n",
       "    Educational_Qualifications  Family_size  latitude  longitude  Pin_code  \\\n",
       "77                    Graduate            4   12.9770    77.5773    560009   \n",
       "52               Post Graduate            3   12.9770    77.5773    560009   \n",
       "32                        Ph.D            4   12.9261    77.6221    560034   \n",
       "301                   Graduate            6   12.9473    77.5616    560019   \n",
       "121                   Graduate            3   12.9766    77.5993    560001   \n",
       "\n",
       "    Output  Feedback Unnamed:_12  \n",
       "77     Yes  Positive         Yes  \n",
       "52     Yes  Positive         Yes  \n",
       "32     Yes  Positive         Yes  \n",
       "301    Yes  Positive         Yes  \n",
       "121    Yes  Positive         Yes  "
      ]
     },
     "execution_count": 14,
     "metadata": {},
     "output_type": "execute_result"
    }
   ],
   "source": [
    "data.sample(5)"
   ]
  },
  {
   "cell_type": "code",
   "execution_count": 15,
   "id": "f23e5e0d",
   "metadata": {},
   "outputs": [
    {
     "data": {
      "text/plain": [
       "2    268\n",
       "1    108\n",
       "0     12\n",
       "Name: Marital_Status, dtype: int64"
      ]
     },
     "execution_count": 15,
     "metadata": {},
     "output_type": "execute_result"
    }
   ],
   "source": [
    "d1 = {'Prefer not to say' : 0, 'Married' : 1, 'Single' : 2}\n",
    "data.Marital_Status = data.Marital_Status.map(d1)\n",
    "data.Marital_Status.value_counts()"
   ]
  },
  {
   "cell_type": "code",
   "execution_count": 16,
   "id": "ad8a1de6",
   "metadata": {},
   "outputs": [
    {
     "data": {
      "text/plain": [
       "3    207\n",
       "2    118\n",
       "1     54\n",
       "0      9\n",
       "Name: Occupation, dtype: int64"
      ]
     },
     "execution_count": 16,
     "metadata": {},
     "output_type": "execute_result"
    }
   ],
   "source": [
    "d2 = {'House wife' : 0, 'Self Employeed' : 1, 'Employee' : 2, 'Student' : 3}\n",
    "data.Occupation = data.Occupation.map(d2)\n",
    "data.Occupation.value_counts()"
   ]
  },
  {
   "cell_type": "code",
   "execution_count": 17,
   "id": "87cef522",
   "metadata": {},
   "outputs": [
    {
     "data": {
      "text/plain": [
       "0        187\n",
       "37500     69\n",
       "50000     62\n",
       "17500     45\n",
       "5000      25\n",
       "Name: Monthly_Income, dtype: int64"
      ]
     },
     "execution_count": 17,
     "metadata": {},
     "output_type": "execute_result"
    }
   ],
   "source": [
    "d3 = {'No Income' : 0, '25001 to 50000' : 37500, 'More than 50000' : 50000, '10001 to 25000' : 17500,\n",
    "     'Below Rs.10000' : 5000}\n",
    "data.Monthly_Income = data.Monthly_Income.map(d3)\n",
    "data.Monthly_Income.value_counts()"
   ]
  },
  {
   "cell_type": "code",
   "execution_count": 18,
   "id": "3be6338b",
   "metadata": {},
   "outputs": [
    {
     "data": {
      "text/plain": [
       "2    177\n",
       "3    174\n",
       "4     23\n",
       "1     12\n",
       "0      2\n",
       "Name: Educational_Qualifications, dtype: int64"
      ]
     },
     "execution_count": 18,
     "metadata": {},
     "output_type": "execute_result"
    }
   ],
   "source": [
    "d5 = {'Uneducated' : 0, 'School' : 1, 'Graduate' : 2, 'Post Graduate' : 3, 'Ph.D' : 4}\n",
    "data.Educational_Qualifications = data.Educational_Qualifications.map(d5)\n",
    "data.Educational_Qualifications.value_counts()"
   ]
  },
  {
   "cell_type": "code",
   "execution_count": 19,
   "id": "d075fa81",
   "metadata": {},
   "outputs": [
    {
     "data": {
      "text/plain": [
       "1    317\n",
       "0     71\n",
       "Name: Feedback, dtype: int64"
      ]
     },
     "execution_count": 19,
     "metadata": {},
     "output_type": "execute_result"
    }
   ],
   "source": [
    "data.Feedback = data.Feedback.str.replace(' ', '')\n",
    "d6 = {'Positive' : 1, 'Negative' : 0}\n",
    "data.Feedback = data.Feedback.map(d6)\n",
    "data.Feedback.value_counts()"
   ]
  },
  {
   "cell_type": "code",
   "execution_count": 20,
   "id": "e80f6ce4",
   "metadata": {},
   "outputs": [
    {
     "data": {
      "text/plain": [
       "1    301\n",
       "0     87\n",
       "Name: Output, dtype: int64"
      ]
     },
     "execution_count": 20,
     "metadata": {},
     "output_type": "execute_result"
    }
   ],
   "source": [
    "d7 = {'Yes' : 1, 'No' : 0}\n",
    "data.Output = data.Output.map(d7)\n",
    "data.Output.value_counts()"
   ]
  },
  {
   "cell_type": "code",
   "execution_count": 22,
   "id": "3e1b4471",
   "metadata": {},
   "outputs": [],
   "source": [
    "data = data.drop(['Pin_code', 'Unnamed:_12'], axis = 1)"
   ]
  },
  {
   "cell_type": "code",
   "execution_count": 23,
   "id": "4d177f57",
   "metadata": {},
   "outputs": [
    {
     "data": {
      "text/html": [
       "<div>\n",
       "<style scoped>\n",
       "    .dataframe tbody tr th:only-of-type {\n",
       "        vertical-align: middle;\n",
       "    }\n",
       "\n",
       "    .dataframe tbody tr th {\n",
       "        vertical-align: top;\n",
       "    }\n",
       "\n",
       "    .dataframe thead th {\n",
       "        text-align: right;\n",
       "    }\n",
       "</style>\n",
       "<table border=\"1\" class=\"dataframe\">\n",
       "  <thead>\n",
       "    <tr style=\"text-align: right;\">\n",
       "      <th></th>\n",
       "      <th>Age</th>\n",
       "      <th>Gender</th>\n",
       "      <th>Marital_Status</th>\n",
       "      <th>Occupation</th>\n",
       "      <th>Monthly_Income</th>\n",
       "      <th>Educational_Qualifications</th>\n",
       "      <th>Family_size</th>\n",
       "      <th>latitude</th>\n",
       "      <th>longitude</th>\n",
       "      <th>Output</th>\n",
       "      <th>Feedback</th>\n",
       "    </tr>\n",
       "  </thead>\n",
       "  <tbody>\n",
       "    <tr>\n",
       "      <th>0</th>\n",
       "      <td>20</td>\n",
       "      <td>Female</td>\n",
       "      <td>2</td>\n",
       "      <td>3</td>\n",
       "      <td>0</td>\n",
       "      <td>3</td>\n",
       "      <td>4</td>\n",
       "      <td>12.9766</td>\n",
       "      <td>77.5993</td>\n",
       "      <td>1</td>\n",
       "      <td>1</td>\n",
       "    </tr>\n",
       "    <tr>\n",
       "      <th>1</th>\n",
       "      <td>24</td>\n",
       "      <td>Female</td>\n",
       "      <td>2</td>\n",
       "      <td>3</td>\n",
       "      <td>5000</td>\n",
       "      <td>2</td>\n",
       "      <td>3</td>\n",
       "      <td>12.9770</td>\n",
       "      <td>77.5773</td>\n",
       "      <td>1</td>\n",
       "      <td>1</td>\n",
       "    </tr>\n",
       "    <tr>\n",
       "      <th>2</th>\n",
       "      <td>22</td>\n",
       "      <td>Male</td>\n",
       "      <td>2</td>\n",
       "      <td>3</td>\n",
       "      <td>5000</td>\n",
       "      <td>3</td>\n",
       "      <td>3</td>\n",
       "      <td>12.9551</td>\n",
       "      <td>77.6593</td>\n",
       "      <td>1</td>\n",
       "      <td>0</td>\n",
       "    </tr>\n",
       "    <tr>\n",
       "      <th>3</th>\n",
       "      <td>22</td>\n",
       "      <td>Female</td>\n",
       "      <td>2</td>\n",
       "      <td>3</td>\n",
       "      <td>0</td>\n",
       "      <td>2</td>\n",
       "      <td>6</td>\n",
       "      <td>12.9473</td>\n",
       "      <td>77.5616</td>\n",
       "      <td>1</td>\n",
       "      <td>1</td>\n",
       "    </tr>\n",
       "    <tr>\n",
       "      <th>4</th>\n",
       "      <td>22</td>\n",
       "      <td>Male</td>\n",
       "      <td>2</td>\n",
       "      <td>3</td>\n",
       "      <td>5000</td>\n",
       "      <td>3</td>\n",
       "      <td>4</td>\n",
       "      <td>12.9850</td>\n",
       "      <td>77.5533</td>\n",
       "      <td>1</td>\n",
       "      <td>1</td>\n",
       "    </tr>\n",
       "  </tbody>\n",
       "</table>\n",
       "</div>"
      ],
      "text/plain": [
       "   Age  Gender  Marital_Status  Occupation  Monthly_Income  \\\n",
       "0   20  Female               2           3               0   \n",
       "1   24  Female               2           3            5000   \n",
       "2   22    Male               2           3            5000   \n",
       "3   22  Female               2           3               0   \n",
       "4   22    Male               2           3            5000   \n",
       "\n",
       "   Educational_Qualifications  Family_size  latitude  longitude  Output  \\\n",
       "0                           3            4   12.9766    77.5993       1   \n",
       "1                           2            3   12.9770    77.5773       1   \n",
       "2                           3            3   12.9551    77.6593       1   \n",
       "3                           2            6   12.9473    77.5616       1   \n",
       "4                           3            4   12.9850    77.5533       1   \n",
       "\n",
       "   Feedback  \n",
       "0         1  \n",
       "1         1  \n",
       "2         0  \n",
       "3         1  \n",
       "4         1  "
      ]
     },
     "execution_count": 23,
     "metadata": {},
     "output_type": "execute_result"
    }
   ],
   "source": [
    "data.head()"
   ]
  },
  {
   "cell_type": "code",
   "execution_count": 24,
   "id": "5a380825",
   "metadata": {},
   "outputs": [],
   "source": [
    "x = data.drop('Output', axis = 1)\n",
    "y = data['Output']"
   ]
  },
  {
   "cell_type": "code",
   "execution_count": 25,
   "id": "c48c4ffa",
   "metadata": {},
   "outputs": [
    {
     "data": {
      "text/plain": [
       "((388, 10), (388,))"
      ]
     },
     "execution_count": 25,
     "metadata": {},
     "output_type": "execute_result"
    }
   ],
   "source": [
    "x = pd.get_dummies(x, drop_first = True)\n",
    "x.shape, y.shape"
   ]
  },
  {
   "cell_type": "markdown",
   "id": "8470c28d",
   "metadata": {},
   "source": [
    "## Makine Öğrenimi Modeli"
   ]
  },
  {
   "cell_type": "code",
   "execution_count": 44,
   "id": "328c1285",
   "metadata": {},
   "outputs": [],
   "source": [
    "def classification(x, y):\n",
    "    model1 = LogisticRegression()\n",
    "    model2 = DecisionTreeClassifier()\n",
    "    model3 = RandomForestClassifier()\n",
    "    model4 = BernoulliNB()\n",
    "    model5= GaussianNB()\n",
    "    model6 = SVC()\n",
    "    model7 = GradientBoostingClassifier()\n",
    "    model8 = AdaBoostClassifier()\n",
    "    model9 = HistGradientBoostingClassifier()\n",
    "    model10 = BaggingClassifier()\n",
    "    model11 = XGBClassifier()\n",
    "    model12 = ExtraTreesClassifier()\n",
    "    model13 = ExtraTreeClassifier()\n",
    "    \n",
    "    models = [model1, model2, model3, model4, model5, model6, model7, model8, model9, model10, model11, model12, model13]\n",
    "    model_names = ['Logistic', 'Decision', 'Random', 'Bernoulli', 'Gaussian', 'Support', 'Gradient',\n",
    "                  'AdaBoost', 'Hist', 'Bagging', 'XGBoost', 'ExtraTrees', 'ExtraTree']\n",
    "    \n",
    "    x_train, x_test, y_train, y_true = train_test_split(x, y, test_size = 0.2, random_state = 42)\n",
    "    #x_train = StandardScaler().fit_transform(x_train)\n",
    "    #x_test = StandardScaler().fit_transform(x_test)\n",
    "    \n",
    "    acc = []\n",
    "    f1 = []\n",
    "    skor = pd.DataFrame(columns = ['Accuracy', 'F1_Score'], index = model_names)\n",
    "    \n",
    "    for model in models:\n",
    "        model.fit(x_train, y_train)\n",
    "        y_pred = model.predict(x_test)\n",
    "        acc.append(accuracy_score(y_true, y_pred) * 100)\n",
    "        f1.append(f1_score(y_true, y_pred) * 100)\n",
    "        \n",
    "    skor['Accuracy'] = acc\n",
    "    skor['F1_Score'] = f1\n",
    "    \n",
    "    return skor.sort_values('Accuracy', ascending = False)"
   ]
  },
  {
   "cell_type": "code",
   "execution_count": 45,
   "id": "8cd57de6",
   "metadata": {},
   "outputs": [
    {
     "data": {
      "text/html": [
       "<div>\n",
       "<style scoped>\n",
       "    .dataframe tbody tr th:only-of-type {\n",
       "        vertical-align: middle;\n",
       "    }\n",
       "\n",
       "    .dataframe tbody tr th {\n",
       "        vertical-align: top;\n",
       "    }\n",
       "\n",
       "    .dataframe thead th {\n",
       "        text-align: right;\n",
       "    }\n",
       "</style>\n",
       "<table border=\"1\" class=\"dataframe\">\n",
       "  <thead>\n",
       "    <tr style=\"text-align: right;\">\n",
       "      <th></th>\n",
       "      <th>Accuracy</th>\n",
       "      <th>F1_Score</th>\n",
       "    </tr>\n",
       "  </thead>\n",
       "  <tbody>\n",
       "    <tr>\n",
       "      <th>Random</th>\n",
       "      <td>89.743590</td>\n",
       "      <td>94.029851</td>\n",
       "    </tr>\n",
       "    <tr>\n",
       "      <th>Decision</th>\n",
       "      <td>88.461538</td>\n",
       "      <td>93.129771</td>\n",
       "    </tr>\n",
       "    <tr>\n",
       "      <th>Hist</th>\n",
       "      <td>88.461538</td>\n",
       "      <td>93.129771</td>\n",
       "    </tr>\n",
       "    <tr>\n",
       "      <th>XGBoost</th>\n",
       "      <td>88.461538</td>\n",
       "      <td>93.129771</td>\n",
       "    </tr>\n",
       "    <tr>\n",
       "      <th>ExtraTrees</th>\n",
       "      <td>88.461538</td>\n",
       "      <td>93.129771</td>\n",
       "    </tr>\n",
       "    <tr>\n",
       "      <th>Gaussian</th>\n",
       "      <td>87.179487</td>\n",
       "      <td>92.537313</td>\n",
       "    </tr>\n",
       "    <tr>\n",
       "      <th>Gradient</th>\n",
       "      <td>87.179487</td>\n",
       "      <td>92.424242</td>\n",
       "    </tr>\n",
       "    <tr>\n",
       "      <th>AdaBoost</th>\n",
       "      <td>87.179487</td>\n",
       "      <td>92.537313</td>\n",
       "    </tr>\n",
       "    <tr>\n",
       "      <th>Bagging</th>\n",
       "      <td>87.179487</td>\n",
       "      <td>92.307692</td>\n",
       "    </tr>\n",
       "    <tr>\n",
       "      <th>Bernoulli</th>\n",
       "      <td>85.897436</td>\n",
       "      <td>91.729323</td>\n",
       "    </tr>\n",
       "    <tr>\n",
       "      <th>Support</th>\n",
       "      <td>84.615385</td>\n",
       "      <td>91.666667</td>\n",
       "    </tr>\n",
       "    <tr>\n",
       "      <th>ExtraTree</th>\n",
       "      <td>83.333333</td>\n",
       "      <td>89.763780</td>\n",
       "    </tr>\n",
       "    <tr>\n",
       "      <th>Logistic</th>\n",
       "      <td>80.769231</td>\n",
       "      <td>89.361702</td>\n",
       "    </tr>\n",
       "  </tbody>\n",
       "</table>\n",
       "</div>"
      ],
      "text/plain": [
       "             Accuracy   F1_Score\n",
       "Random      89.743590  94.029851\n",
       "Decision    88.461538  93.129771\n",
       "Hist        88.461538  93.129771\n",
       "XGBoost     88.461538  93.129771\n",
       "ExtraTrees  88.461538  93.129771\n",
       "Gaussian    87.179487  92.537313\n",
       "Gradient    87.179487  92.424242\n",
       "AdaBoost    87.179487  92.537313\n",
       "Bagging     87.179487  92.307692\n",
       "Bernoulli   85.897436  91.729323\n",
       "Support     84.615385  91.666667\n",
       "ExtraTree   83.333333  89.763780\n",
       "Logistic    80.769231  89.361702"
      ]
     },
     "execution_count": 45,
     "metadata": {},
     "output_type": "execute_result"
    }
   ],
   "source": [
    "classification(x, y)"
   ]
  },
  {
   "cell_type": "code",
   "execution_count": null,
   "id": "268022ac",
   "metadata": {},
   "outputs": [],
   "source": [
    "## Şimdi korelasyonu dusuk sutunları kaldırıp deneyelim."
   ]
  },
  {
   "cell_type": "code",
   "execution_count": 48,
   "id": "dab00d4d",
   "metadata": {},
   "outputs": [
    {
     "data": {
      "text/plain": [
       "Output                        1.000000\n",
       "Feedback                      0.592609\n",
       "Marital_Status                0.281810\n",
       "Occupation                    0.240721\n",
       "Educational_Qualifications    0.079595\n",
       "longitude                     0.045265\n",
       "Family_size                  -0.043780\n",
       "latitude                     -0.159963\n",
       "Monthly_Income               -0.213938\n",
       "Age                          -0.248052\n",
       "Name: Output, dtype: float64"
      ]
     },
     "execution_count": 48,
     "metadata": {},
     "output_type": "execute_result"
    }
   ],
   "source": [
    "data.corr()['Output'].sort_values(ascending = False)"
   ]
  },
  {
   "cell_type": "code",
   "execution_count": 49,
   "id": "ae2eea4c",
   "metadata": {},
   "outputs": [],
   "source": [
    "x1 = x.drop(['Educational_Qualifications', 'longitude', 'Family_size', 'latitude'], axis = 1)"
   ]
  },
  {
   "cell_type": "code",
   "execution_count": 50,
   "id": "b88643e1",
   "metadata": {},
   "outputs": [
    {
     "data": {
      "text/html": [
       "<div>\n",
       "<style scoped>\n",
       "    .dataframe tbody tr th:only-of-type {\n",
       "        vertical-align: middle;\n",
       "    }\n",
       "\n",
       "    .dataframe tbody tr th {\n",
       "        vertical-align: top;\n",
       "    }\n",
       "\n",
       "    .dataframe thead th {\n",
       "        text-align: right;\n",
       "    }\n",
       "</style>\n",
       "<table border=\"1\" class=\"dataframe\">\n",
       "  <thead>\n",
       "    <tr style=\"text-align: right;\">\n",
       "      <th></th>\n",
       "      <th>Accuracy</th>\n",
       "      <th>F1_Score</th>\n",
       "    </tr>\n",
       "  </thead>\n",
       "  <tbody>\n",
       "    <tr>\n",
       "      <th>Gaussian</th>\n",
       "      <td>88.461538</td>\n",
       "      <td>93.333333</td>\n",
       "    </tr>\n",
       "    <tr>\n",
       "      <th>Gradient</th>\n",
       "      <td>88.461538</td>\n",
       "      <td>93.233083</td>\n",
       "    </tr>\n",
       "    <tr>\n",
       "      <th>XGBoost</th>\n",
       "      <td>88.461538</td>\n",
       "      <td>93.233083</td>\n",
       "    </tr>\n",
       "    <tr>\n",
       "      <th>ExtraTrees</th>\n",
       "      <td>88.461538</td>\n",
       "      <td>93.233083</td>\n",
       "    </tr>\n",
       "    <tr>\n",
       "      <th>Random</th>\n",
       "      <td>87.179487</td>\n",
       "      <td>92.537313</td>\n",
       "    </tr>\n",
       "    <tr>\n",
       "      <th>Hist</th>\n",
       "      <td>87.179487</td>\n",
       "      <td>92.537313</td>\n",
       "    </tr>\n",
       "    <tr>\n",
       "      <th>Decision</th>\n",
       "      <td>85.897436</td>\n",
       "      <td>91.472868</td>\n",
       "    </tr>\n",
       "    <tr>\n",
       "      <th>Bernoulli</th>\n",
       "      <td>85.897436</td>\n",
       "      <td>91.729323</td>\n",
       "    </tr>\n",
       "    <tr>\n",
       "      <th>Bagging</th>\n",
       "      <td>85.897436</td>\n",
       "      <td>91.729323</td>\n",
       "    </tr>\n",
       "    <tr>\n",
       "      <th>Logistic</th>\n",
       "      <td>84.615385</td>\n",
       "      <td>91.666667</td>\n",
       "    </tr>\n",
       "    <tr>\n",
       "      <th>Support</th>\n",
       "      <td>84.615385</td>\n",
       "      <td>91.666667</td>\n",
       "    </tr>\n",
       "    <tr>\n",
       "      <th>AdaBoost</th>\n",
       "      <td>83.333333</td>\n",
       "      <td>90.225564</td>\n",
       "    </tr>\n",
       "    <tr>\n",
       "      <th>ExtraTree</th>\n",
       "      <td>83.333333</td>\n",
       "      <td>89.922481</td>\n",
       "    </tr>\n",
       "  </tbody>\n",
       "</table>\n",
       "</div>"
      ],
      "text/plain": [
       "             Accuracy   F1_Score\n",
       "Gaussian    88.461538  93.333333\n",
       "Gradient    88.461538  93.233083\n",
       "XGBoost     88.461538  93.233083\n",
       "ExtraTrees  88.461538  93.233083\n",
       "Random      87.179487  92.537313\n",
       "Hist        87.179487  92.537313\n",
       "Decision    85.897436  91.472868\n",
       "Bernoulli   85.897436  91.729323\n",
       "Bagging     85.897436  91.729323\n",
       "Logistic    84.615385  91.666667\n",
       "Support     84.615385  91.666667\n",
       "AdaBoost    83.333333  90.225564\n",
       "ExtraTree   83.333333  89.922481"
      ]
     },
     "execution_count": 50,
     "metadata": {},
     "output_type": "execute_result"
    }
   ],
   "source": [
    "classification(x1, y)   ## sonuc çok değişmedi."
   ]
  },
  {
   "cell_type": "markdown",
   "id": "5d246806",
   "metadata": {},
   "source": [
    "## Derin Öğrenme Modeli"
   ]
  },
  {
   "cell_type": "code",
   "execution_count": 64,
   "id": "1fd31aa4",
   "metadata": {},
   "outputs": [],
   "source": [
    "x_train, x_test, y_train, y_true = train_test_split(x, y, test_size = 0.2, random_state = 42)\n",
    "x_train = StandardScaler().fit_transform(x_train)\n",
    "x_test = StandardScaler().fit_transform(x_test)"
   ]
  },
  {
   "cell_type": "code",
   "execution_count": 65,
   "id": "4f136602",
   "metadata": {},
   "outputs": [],
   "source": [
    "model = Sequential()\n",
    "model.add(Dense(units = 124, activation = 'relu'))\n",
    "model.add(Dense(units = 512, activation = 'relu'))\n",
    "model.add(Dense(units = 512, activation = 'relu'))\n",
    "model.add(Dense(units = 512, activation = 'relu'))\n",
    "model.add(Dense(units = 256, activation = 'relu'))\n",
    "model.add(Dense(units = 32, activation = 'relu'))\n",
    "model.add(Dense(units = 16, activation = 'relu'))\n",
    "model.add(Dense(units = 16, activation = 'relu'))\n",
    "model.add(Dense(units = 16, activation = 'relu'))\n",
    "model.add(Dense(units = 16, activation = 'relu'))\n",
    "\n",
    "model.add(Dense(1, activation = 'sigmoid'))\n",
    "\n",
    "model.compile(loss = 'binary_crossentropy', optimizer = 'adam', metrics = 'accuracy') "
   ]
  },
  {
   "cell_type": "code",
   "execution_count": 66,
   "id": "e55fbcd4",
   "metadata": {},
   "outputs": [],
   "source": [
    "early = EarlyStopping(monitor = 'accuracy', patience = 20, mode = 'max')"
   ]
  },
  {
   "cell_type": "code",
   "execution_count": 67,
   "id": "9c99fe04",
   "metadata": {},
   "outputs": [
    {
     "name": "stdout",
     "output_type": "stream",
     "text": [
      "Epoch 1/200\n",
      "10/10 [==============================] - 2s 27ms/step - loss: 0.5969 - accuracy: 0.7581 - val_loss: 0.3934 - val_accuracy: 0.8462\n",
      "Epoch 2/200\n",
      "10/10 [==============================] - 0s 10ms/step - loss: 0.4214 - accuracy: 0.7581 - val_loss: 0.3286 - val_accuracy: 0.8462\n",
      "Epoch 3/200\n",
      "10/10 [==============================] - 0s 9ms/step - loss: 0.3901 - accuracy: 0.7581 - val_loss: 0.3725 - val_accuracy: 0.8462\n",
      "Epoch 4/200\n",
      "10/10 [==============================] - 0s 8ms/step - loss: 0.3613 - accuracy: 0.7903 - val_loss: 0.3438 - val_accuracy: 0.8462\n",
      "Epoch 5/200\n",
      "10/10 [==============================] - 0s 8ms/step - loss: 0.3191 - accuracy: 0.8903 - val_loss: 0.3433 - val_accuracy: 0.8333\n",
      "Epoch 6/200\n",
      "10/10 [==============================] - 0s 8ms/step - loss: 0.2762 - accuracy: 0.8935 - val_loss: 0.3432 - val_accuracy: 0.8333\n",
      "Epoch 7/200\n",
      "10/10 [==============================] - 0s 9ms/step - loss: 0.2501 - accuracy: 0.9097 - val_loss: 0.3672 - val_accuracy: 0.8205\n",
      "Epoch 8/200\n",
      "10/10 [==============================] - 0s 8ms/step - loss: 0.2187 - accuracy: 0.9194 - val_loss: 0.4565 - val_accuracy: 0.8462\n",
      "Epoch 9/200\n",
      "10/10 [==============================] - 0s 8ms/step - loss: 0.2121 - accuracy: 0.9161 - val_loss: 0.4906 - val_accuracy: 0.8077\n",
      "Epoch 10/200\n",
      "10/10 [==============================] - 0s 8ms/step - loss: 0.2255 - accuracy: 0.8968 - val_loss: 0.5230 - val_accuracy: 0.8077\n",
      "Epoch 11/200\n",
      "10/10 [==============================] - 0s 8ms/step - loss: 0.2552 - accuracy: 0.8774 - val_loss: 0.3385 - val_accuracy: 0.8205\n",
      "Epoch 12/200\n",
      "10/10 [==============================] - 0s 9ms/step - loss: 0.2563 - accuracy: 0.8903 - val_loss: 0.3265 - val_accuracy: 0.8462\n",
      "Epoch 13/200\n",
      "10/10 [==============================] - 0s 9ms/step - loss: 0.1991 - accuracy: 0.9226 - val_loss: 0.5136 - val_accuracy: 0.8333\n",
      "Epoch 14/200\n",
      "10/10 [==============================] - 0s 8ms/step - loss: 0.1920 - accuracy: 0.9129 - val_loss: 0.3970 - val_accuracy: 0.8205\n",
      "Epoch 15/200\n",
      "10/10 [==============================] - 0s 9ms/step - loss: 0.1475 - accuracy: 0.9226 - val_loss: 0.4252 - val_accuracy: 0.8590\n",
      "Epoch 16/200\n",
      "10/10 [==============================] - 0s 10ms/step - loss: 0.1215 - accuracy: 0.9548 - val_loss: 0.5233 - val_accuracy: 0.8718\n",
      "Epoch 17/200\n",
      "10/10 [==============================] - 0s 11ms/step - loss: 0.1214 - accuracy: 0.9548 - val_loss: 0.6342 - val_accuracy: 0.8077\n",
      "Epoch 18/200\n",
      "10/10 [==============================] - 0s 9ms/step - loss: 0.0902 - accuracy: 0.9677 - val_loss: 0.6730 - val_accuracy: 0.7949\n",
      "Epoch 19/200\n",
      "10/10 [==============================] - 0s 9ms/step - loss: 0.1264 - accuracy: 0.9516 - val_loss: 0.5685 - val_accuracy: 0.8333\n",
      "Epoch 20/200\n",
      "10/10 [==============================] - 0s 9ms/step - loss: 0.0903 - accuracy: 0.9677 - val_loss: 0.5548 - val_accuracy: 0.8462\n",
      "Epoch 21/200\n",
      "10/10 [==============================] - 0s 9ms/step - loss: 0.0668 - accuracy: 0.9677 - val_loss: 0.7238 - val_accuracy: 0.8462\n",
      "Epoch 22/200\n",
      "10/10 [==============================] - 0s 10ms/step - loss: 0.0539 - accuracy: 0.9806 - val_loss: 0.7848 - val_accuracy: 0.8590\n",
      "Epoch 23/200\n",
      "10/10 [==============================] - 0s 10ms/step - loss: 0.0485 - accuracy: 0.9774 - val_loss: 0.7690 - val_accuracy: 0.8590\n",
      "Epoch 24/200\n",
      "10/10 [==============================] - 0s 10ms/step - loss: 0.0470 - accuracy: 0.9871 - val_loss: 1.0815 - val_accuracy: 0.7949\n",
      "Epoch 25/200\n",
      "10/10 [==============================] - 0s 9ms/step - loss: 0.0812 - accuracy: 0.9710 - val_loss: 0.7170 - val_accuracy: 0.8718\n",
      "Epoch 26/200\n",
      "10/10 [==============================] - 0s 8ms/step - loss: 0.0626 - accuracy: 0.9774 - val_loss: 0.7098 - val_accuracy: 0.8462\n",
      "Epoch 27/200\n",
      "10/10 [==============================] - 0s 9ms/step - loss: 0.0366 - accuracy: 0.9903 - val_loss: 0.7138 - val_accuracy: 0.8590\n",
      "Epoch 28/200\n",
      "10/10 [==============================] - 0s 8ms/step - loss: 0.0175 - accuracy: 0.9968 - val_loss: 0.9908 - val_accuracy: 0.8462\n",
      "Epoch 29/200\n",
      "10/10 [==============================] - 0s 8ms/step - loss: 0.0104 - accuracy: 0.9968 - val_loss: 1.2822 - val_accuracy: 0.8333\n",
      "Epoch 30/200\n",
      "10/10 [==============================] - 0s 9ms/step - loss: 0.0093 - accuracy: 0.9968 - val_loss: 1.2708 - val_accuracy: 0.8590\n",
      "Epoch 31/200\n",
      "10/10 [==============================] - 0s 10ms/step - loss: 0.0104 - accuracy: 0.9968 - val_loss: 1.2682 - val_accuracy: 0.8590\n",
      "Epoch 32/200\n",
      "10/10 [==============================] - 0s 10ms/step - loss: 0.0067 - accuracy: 0.9968 - val_loss: 1.3544 - val_accuracy: 0.8462\n",
      "Epoch 33/200\n",
      "10/10 [==============================] - 0s 8ms/step - loss: 0.0066 - accuracy: 0.9968 - val_loss: 1.4335 - val_accuracy: 0.8462\n",
      "Epoch 34/200\n",
      "10/10 [==============================] - 0s 8ms/step - loss: 0.0065 - accuracy: 0.9968 - val_loss: 1.5074 - val_accuracy: 0.8462\n",
      "Epoch 35/200\n",
      "10/10 [==============================] - 0s 8ms/step - loss: 0.0064 - accuracy: 0.9968 - val_loss: 1.5705 - val_accuracy: 0.8462\n",
      "Epoch 36/200\n",
      "10/10 [==============================] - 0s 8ms/step - loss: 0.0067 - accuracy: 0.9968 - val_loss: 1.6176 - val_accuracy: 0.8462\n",
      "Epoch 37/200\n",
      "10/10 [==============================] - 0s 8ms/step - loss: 0.0063 - accuracy: 0.9968 - val_loss: 1.6556 - val_accuracy: 0.8462\n",
      "Epoch 38/200\n",
      "10/10 [==============================] - 0s 8ms/step - loss: 0.0063 - accuracy: 0.9968 - val_loss: 1.6929 - val_accuracy: 0.8590\n",
      "Epoch 39/200\n",
      "10/10 [==============================] - 0s 8ms/step - loss: 0.0060 - accuracy: 0.9968 - val_loss: 1.7265 - val_accuracy: 0.8462\n",
      "Epoch 40/200\n",
      "10/10 [==============================] - 0s 9ms/step - loss: 0.0059 - accuracy: 0.9968 - val_loss: 1.7608 - val_accuracy: 0.8462\n",
      "Epoch 41/200\n",
      "10/10 [==============================] - 0s 8ms/step - loss: 0.0060 - accuracy: 0.9968 - val_loss: 1.7931 - val_accuracy: 0.8462\n",
      "Epoch 42/200\n",
      "10/10 [==============================] - 0s 8ms/step - loss: 0.0064 - accuracy: 0.9968 - val_loss: 1.8073 - val_accuracy: 0.8590\n",
      "Epoch 43/200\n",
      "10/10 [==============================] - 0s 8ms/step - loss: 0.0062 - accuracy: 0.9968 - val_loss: 1.8503 - val_accuracy: 0.8462\n",
      "Epoch 44/200\n",
      "10/10 [==============================] - 0s 9ms/step - loss: 0.0063 - accuracy: 0.9968 - val_loss: 1.8616 - val_accuracy: 0.8462\n",
      "Epoch 45/200\n",
      "10/10 [==============================] - 0s 9ms/step - loss: 0.0059 - accuracy: 0.9968 - val_loss: 1.8883 - val_accuracy: 0.8462\n",
      "Epoch 46/200\n",
      "10/10 [==============================] - 0s 8ms/step - loss: 0.0058 - accuracy: 0.9968 - val_loss: 1.9060 - val_accuracy: 0.8462\n",
      "Epoch 47/200\n",
      "10/10 [==============================] - 0s 9ms/step - loss: 0.0057 - accuracy: 0.9968 - val_loss: 1.9329 - val_accuracy: 0.8462\n",
      "Epoch 48/200\n",
      "10/10 [==============================] - 0s 8ms/step - loss: 0.0058 - accuracy: 0.9968 - val_loss: 1.9509 - val_accuracy: 0.8462\n"
     ]
    }
   ],
   "source": [
    "history = model.fit(x_train, y_train, validation_data = (x_test, y_true), epochs = 200, batch_size = 32, verbose = 1, callbacks = [early])"
   ]
  },
  {
   "cell_type": "code",
   "execution_count": 68,
   "id": "2b57d2d9",
   "metadata": {},
   "outputs": [
    {
     "name": "stdout",
     "output_type": "stream",
     "text": [
      "Model: \"sequential_4\"\n",
      "_________________________________________________________________\n",
      " Layer (type)                Output Shape              Param #   \n",
      "=================================================================\n",
      " dense_38 (Dense)            (None, 124)               1364      \n",
      "                                                                 \n",
      " dense_39 (Dense)            (None, 512)               64000     \n",
      "                                                                 \n",
      " dense_40 (Dense)            (None, 512)               262656    \n",
      "                                                                 \n",
      " dense_41 (Dense)            (None, 512)               262656    \n",
      "                                                                 \n",
      " dense_42 (Dense)            (None, 256)               131328    \n",
      "                                                                 \n",
      " dense_43 (Dense)            (None, 32)                8224      \n",
      "                                                                 \n",
      " dense_44 (Dense)            (None, 16)                528       \n",
      "                                                                 \n",
      " dense_45 (Dense)            (None, 16)                272       \n",
      "                                                                 \n",
      " dense_46 (Dense)            (None, 16)                272       \n",
      "                                                                 \n",
      " dense_47 (Dense)            (None, 16)                272       \n",
      "                                                                 \n",
      " dense_48 (Dense)            (None, 1)                 17        \n",
      "                                                                 \n",
      "=================================================================\n",
      "Total params: 731,589\n",
      "Trainable params: 731,589\n",
      "Non-trainable params: 0\n",
      "_________________________________________________________________\n"
     ]
    }
   ],
   "source": [
    "model.summary()"
   ]
  },
  {
   "cell_type": "code",
   "execution_count": 69,
   "id": "380ec20b",
   "metadata": {},
   "outputs": [
    {
     "name": "stdout",
     "output_type": "stream",
     "text": [
      "10/10 [==============================] - 0s 2ms/step - loss: 0.0055 - accuracy: 0.9968\n"
     ]
    },
    {
     "data": {
      "text/plain": [
       "[0.00552775152027607, 0.9967741966247559]"
      ]
     },
     "execution_count": 69,
     "metadata": {},
     "output_type": "execute_result"
    }
   ],
   "source": [
    "model.evaluate(x_train, y_train)"
   ]
  },
  {
   "cell_type": "code",
   "execution_count": 74,
   "id": "54094fd9",
   "metadata": {},
   "outputs": [
    {
     "data": {
      "image/png": "[encoded data removed]",
      "text/plain": [
       "<Figure size 720x432 with 1 Axes>"
      ]
     },
     "metadata": {
      "needs_background": "light"
     },
     "output_type": "display_data"
    }
   ],
   "source": [
    "loss = pd.DataFrame(history.history)\n",
    "fig, ax = plt.subplots(figsize=(10, 6))\n",
    "loss.plot(ax=ax)\n",
    "plt.show()"
   ]
  },
  {
   "cell_type": "code",
   "execution_count": null,
   "id": "d8b4c104",
   "metadata": {},
   "outputs": [],
   "source": []
  }
 ],
 "metadata": {
  "kernelspec": {
   "display_name": "Python 3 (ipykernel)",
   "language": "python",
   "name": "python3"
  },
  "language_info": {
   "codemirror_mode": {
    "name": "ipython",
    "version": 3
   },
   "file_extension": ".py",
   "mimetype": "text/x-python",
   "name": "python",
   "nbconvert_exporter": "python",
   "pygments_lexer": "ipython3",
   "version": "3.9.12"
  }
 },
 "nbformat": 4,
 "nbformat_minor": 5
}
