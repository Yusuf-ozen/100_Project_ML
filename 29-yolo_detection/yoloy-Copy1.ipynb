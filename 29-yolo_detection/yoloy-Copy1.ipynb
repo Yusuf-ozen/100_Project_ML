{
 "cells": [
  {
   "cell_type": "markdown",
   "id": "30528ed1",
   "metadata": {},
   "source": [
    "## 1 - Downloading the Necessary YOLOv3 Files"
   ]
  },
  {
   "cell_type": "raw",
   "id": "f573f76b",
   "metadata": {},
   "source": [
    "import os\n",
    "import urllib.request\n",
    "\n",
    "def download_file(url, filename):\n",
    "    if not os.path.isfile(filename):\n",
    "        print(f\"Downloading {filename}...\")\n",
    "        urllib.request.urlretrieve(url, filename)\n",
    "        print(\"Download complete.\")\n",
    "\n",
    "# YOLO dosyalarını indir\n",
    "download_file(\"https://github.com/pjreddie/darknet/blob/master/cfg/yolov3.cfg?raw=true\", \"yolov3.cfg\")\n",
    "download_file(\"https://github.com/pjreddie/darknet/blob/master/data/coco.names?raw=true\", \"coco.names\")\n",
    "download_file(\"https://pjreddie.com/media/files/yolov3.weights\", \"yolov3.weights\")\n"
   ]
  },
  {
   "cell_type": "code",
   "execution_count": 2,
   "id": "41a6560d",
   "metadata": {},
   "outputs": [
    {
     "name": "stdout",
     "output_type": "stream",
     "text": [
      "Done!!!\n"
     ]
    }
   ],
   "source": [
    "import cv2\n",
    "import numpy as np\n",
    "\n",
    "# YOLO modelini yükle\n",
    "net = cv2.dnn.readNet(\"yolov3.weights\", \"yolov3.cfg\")\n",
    "classes = []\n",
    "with open(\"coco.names\", \"r\") as f:\n",
    "    classes = [line.strip() for line in f.readlines()]\n",
    "layer_names = net.getUnconnectedOutLayersNames()\n",
    "\n",
    "# Resmi aç\n",
    "cap = cv2.VideoCapture(0)\n",
    "cap.set(cv2.CAP_PROP_FRAME_WIDTH, 640)  # Örneğin, genişlik 640 piksel\n",
    "cap.set(cv2.CAP_PROP_FRAME_HEIGHT, 480)  # Örneğin, yükseklik 480 piksel\n",
    "\n",
    "# Resmi YOLO ile işleme\n",
    "def predict(img):\n",
    "    height, width, _ = img.shape\n",
    "    blob = cv2.dnn.blobFromImage(img, scalefactor = 0.00392, size = (416, 416), mean = (0, 0, 0), swapRB = True, crop=False)\n",
    "    net.setInput(blob)\n",
    "    outs = net.forward(layer_names)\n",
    "\n",
    "    \n",
    "    # Tespit sonuçlarını işleme ve görselleştirme\n",
    "    class_ids = []\n",
    "    confidences = []\n",
    "    boxes = []\n",
    "\n",
    "    for out in outs:\n",
    "        for detection in out:\n",
    "            scores = detection[5:]\n",
    "            class_id = np.argmax(scores)\n",
    "            confidence = scores[class_id]\n",
    "            if confidence > 0.5:  # Belirli bir güvenilirlik eşiği\n",
    "                center_x = int(detection[0] * width)\n",
    "                center_y = int(detection[1] * height)\n",
    "                w = int(detection[2] * width)\n",
    "                h = int(detection[3] * height)\n",
    "\n",
    "                x = int(center_x - w / 2)\n",
    "                y = int(center_y - h / 2)\n",
    "\n",
    "                class_ids.append(class_id)\n",
    "                confidences.append(float(confidence))\n",
    "                boxes.append([x, y, w, h])\n",
    "\n",
    "    # Non-Max Suppression uygula\n",
    "    indices = cv2.dnn.NMSBoxes(boxes, confidences, 0.5, 0.4)\n",
    "\n",
    "    # NMS sonuçlarını görselleştirme\n",
    "    font = cv2.FONT_HERSHEY_SIMPLEX\n",
    "    for i in range(len(boxes)):\n",
    "        if i in indices:\n",
    "            x, y, w, h = boxes[i]\n",
    "            label = str(classes[class_ids[i]])\n",
    "            confidence = confidences[i]\n",
    "            color = (0, 255, 0)  # Yeşil renk\n",
    "            cv2.rectangle(img, (x, y), (x + w, y + h), color, 2)\n",
    "            cv2.putText(img, f'{label} {confidence:.2f}', (x, y - 10), font, 0.5, color, 2)\n",
    "            \n",
    "    return img\n",
    "\n",
    "# Sonucu göster\n",
    "\n",
    "while True:\n",
    "    ret,frame = cap.read()\n",
    "    cv2.imshow('Our live Sketcher',predict(frame))\n",
    "    if cv2.waitKey(1) == 13:  #enter\n",
    "        break\n",
    "\n",
    "\n",
    "cap.release()\n",
    "cv2.destroyAllWindows()\n",
    "print('Done!!!')"
   ]
  },
  {
   "cell_type": "raw",
   "id": "a24fc382",
   "metadata": {},
   "source": [
    "def sketch(image):\n",
    "    img_gray = cv2.cvtColor(image,cv2.COLOR_BGR2GRAY)\n",
    "    \n",
    "    img_gray_blur = cv2.GaussianBlur(img_gray,(5,5),0)\n",
    "    canny_edges = cv2.Canny(img_gray_blur,10,70)\n",
    "    ret,mask = cv2.threshold(canny_edges,250,255,cv2.THRESH_BINARY_INV)\n",
    "    return mask\n",
    "\n",
    "cap = cv2.VideoCapture(0)\n",
    "\n",
    "while True:\n",
    "    ret,frame = cap.read()\n",
    "    cv2.imshow('Our live Sketcher',sketch(frame))\n",
    "    if cv2.waitKey(1) == 13:  #enter\n",
    "        break\n",
    "cap.release()\n",
    "cv2.destroyAllWindows()\n",
    "print('done')\n"
   ]
  },
  {
   "cell_type": "code",
   "execution_count": null,
   "id": "d4c30a5e",
   "metadata": {},
   "outputs": [],
   "source": []
  },
  {
   "cell_type": "code",
   "execution_count": null,
   "id": "feb004c7",
   "metadata": {},
   "outputs": [],
   "source": []
  }
 ],
 "metadata": {
  "kernelspec": {
   "display_name": "Python 3 (ipykernel)",
   "language": "python",
   "name": "python3"
  },
  "language_info": {
   "codemirror_mode": {
    "name": "ipython",
    "version": 3
   },
   "file_extension": ".py",
   "mimetype": "text/x-python",
   "name": "python",
   "nbconvert_exporter": "python",
   "pygments_lexer": "ipython3",
   "version": "3.9.12"
  }
 },
 "nbformat": 4,
 "nbformat_minor": 5
}
