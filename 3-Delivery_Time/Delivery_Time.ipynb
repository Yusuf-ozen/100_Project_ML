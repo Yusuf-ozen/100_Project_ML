{
 "cells": [
  {
   "cell_type": "code",
   "execution_count": 92,
   "id": "ce0eedd3",
   "metadata": {},
   "outputs": [],
   "source": [
    "import numpy as np\n",
    "import pandas as pd\n",
    "import matplotlib.pyplot as plt\n",
    "import seaborn as sbn\n",
    "import warnings\n",
    "warnings.filterwarnings('ignore')\n",
    "pd.set_option('display.max_columns', 100)\n",
    "pd.set_option('display.max_rows', 100)\n",
    "import plotly.express as px\n",
    "import math\n",
    "from sklearn.model_selection import train_test_split\n",
    "from sklearn.linear_model import LinearRegression, ElasticNet, Lasso, Ridge\n",
    "from sklearn.tree import DecisionTreeRegressor\n",
    "from sklearn.ensemble import AdaBoostRegressor, GradientBoostingRegressor, RandomForestRegressor\n",
    "from sklearn.svm import SVR\n",
    "from sklearn.metrics import r2_score, mean_squared_error, mean_absolute_percentage_error\n",
    "from sklearn.preprocessing import StandardScaler, MinMaxScaler\n",
    "from tensorflow.keras.models import Sequential\n",
    "from tensorflow.keras.layers import Dense, Dropout, LSTM\n",
    "from tensorflow.keras.callbacks import EarlyStopping"
   ]
  },
  {
   "cell_type": "code",
   "execution_count": 2,
   "id": "f72ec80d",
   "metadata": {},
   "outputs": [],
   "source": [
    "data = pd.read_csv('deliverytime.txt')"
   ]
  },
  {
   "cell_type": "code",
   "execution_count": 3,
   "id": "525d34e2",
   "metadata": {},
   "outputs": [
    {
     "data": {
      "text/html": [
       "<div>\n",
       "<style scoped>\n",
       "    .dataframe tbody tr th:only-of-type {\n",
       "        vertical-align: middle;\n",
       "    }\n",
       "\n",
       "    .dataframe tbody tr th {\n",
       "        vertical-align: top;\n",
       "    }\n",
       "\n",
       "    .dataframe thead th {\n",
       "        text-align: right;\n",
       "    }\n",
       "</style>\n",
       "<table border=\"1\" class=\"dataframe\">\n",
       "  <thead>\n",
       "    <tr style=\"text-align: right;\">\n",
       "      <th></th>\n",
       "      <th>ID</th>\n",
       "      <th>Delivery_person_ID</th>\n",
       "      <th>Delivery_person_Age</th>\n",
       "      <th>Delivery_person_Ratings</th>\n",
       "      <th>Restaurant_latitude</th>\n",
       "      <th>Restaurant_longitude</th>\n",
       "      <th>Delivery_location_latitude</th>\n",
       "      <th>Delivery_location_longitude</th>\n",
       "      <th>Type_of_order</th>\n",
       "      <th>Type_of_vehicle</th>\n",
       "      <th>Time_taken(min)</th>\n",
       "    </tr>\n",
       "  </thead>\n",
       "  <tbody>\n",
       "    <tr>\n",
       "      <th>0</th>\n",
       "      <td>4607</td>\n",
       "      <td>INDORES13DEL02</td>\n",
       "      <td>37</td>\n",
       "      <td>4.9</td>\n",
       "      <td>22.745049</td>\n",
       "      <td>75.892471</td>\n",
       "      <td>22.765049</td>\n",
       "      <td>75.912471</td>\n",
       "      <td>Snack</td>\n",
       "      <td>motorcycle</td>\n",
       "      <td>24</td>\n",
       "    </tr>\n",
       "    <tr>\n",
       "      <th>1</th>\n",
       "      <td>B379</td>\n",
       "      <td>BANGRES18DEL02</td>\n",
       "      <td>34</td>\n",
       "      <td>4.5</td>\n",
       "      <td>12.913041</td>\n",
       "      <td>77.683237</td>\n",
       "      <td>13.043041</td>\n",
       "      <td>77.813237</td>\n",
       "      <td>Snack</td>\n",
       "      <td>scooter</td>\n",
       "      <td>33</td>\n",
       "    </tr>\n",
       "    <tr>\n",
       "      <th>2</th>\n",
       "      <td>5D6D</td>\n",
       "      <td>BANGRES19DEL01</td>\n",
       "      <td>23</td>\n",
       "      <td>4.4</td>\n",
       "      <td>12.914264</td>\n",
       "      <td>77.678400</td>\n",
       "      <td>12.924264</td>\n",
       "      <td>77.688400</td>\n",
       "      <td>Drinks</td>\n",
       "      <td>motorcycle</td>\n",
       "      <td>26</td>\n",
       "    </tr>\n",
       "    <tr>\n",
       "      <th>3</th>\n",
       "      <td>7A6A</td>\n",
       "      <td>COIMBRES13DEL02</td>\n",
       "      <td>38</td>\n",
       "      <td>4.7</td>\n",
       "      <td>11.003669</td>\n",
       "      <td>76.976494</td>\n",
       "      <td>11.053669</td>\n",
       "      <td>77.026494</td>\n",
       "      <td>Buffet</td>\n",
       "      <td>motorcycle</td>\n",
       "      <td>21</td>\n",
       "    </tr>\n",
       "    <tr>\n",
       "      <th>4</th>\n",
       "      <td>70A2</td>\n",
       "      <td>CHENRES12DEL01</td>\n",
       "      <td>32</td>\n",
       "      <td>4.6</td>\n",
       "      <td>12.972793</td>\n",
       "      <td>80.249982</td>\n",
       "      <td>13.012793</td>\n",
       "      <td>80.289982</td>\n",
       "      <td>Snack</td>\n",
       "      <td>scooter</td>\n",
       "      <td>30</td>\n",
       "    </tr>\n",
       "  </tbody>\n",
       "</table>\n",
       "</div>"
      ],
      "text/plain": [
       "     ID Delivery_person_ID  Delivery_person_Age  Delivery_person_Ratings  \\\n",
       "0  4607     INDORES13DEL02                   37                      4.9   \n",
       "1  B379     BANGRES18DEL02                   34                      4.5   \n",
       "2  5D6D     BANGRES19DEL01                   23                      4.4   \n",
       "3  7A6A    COIMBRES13DEL02                   38                      4.7   \n",
       "4  70A2     CHENRES12DEL01                   32                      4.6   \n",
       "\n",
       "   Restaurant_latitude  Restaurant_longitude  Delivery_location_latitude  \\\n",
       "0            22.745049             75.892471                   22.765049   \n",
       "1            12.913041             77.683237                   13.043041   \n",
       "2            12.914264             77.678400                   12.924264   \n",
       "3            11.003669             76.976494                   11.053669   \n",
       "4            12.972793             80.249982                   13.012793   \n",
       "\n",
       "   Delivery_location_longitude Type_of_order Type_of_vehicle  Time_taken(min)  \n",
       "0                    75.912471        Snack      motorcycle                24  \n",
       "1                    77.813237        Snack         scooter                33  \n",
       "2                    77.688400       Drinks      motorcycle                26  \n",
       "3                    77.026494       Buffet      motorcycle                21  \n",
       "4                    80.289982        Snack         scooter                30  "
      ]
     },
     "execution_count": 3,
     "metadata": {},
     "output_type": "execute_result"
    }
   ],
   "source": [
    "data.head()"
   ]
  },
  {
   "cell_type": "code",
   "execution_count": 4,
   "id": "3e63b4e6",
   "metadata": {},
   "outputs": [
    {
     "data": {
      "text/html": [
       "<div>\n",
       "<style scoped>\n",
       "    .dataframe tbody tr th:only-of-type {\n",
       "        vertical-align: middle;\n",
       "    }\n",
       "\n",
       "    .dataframe tbody tr th {\n",
       "        vertical-align: top;\n",
       "    }\n",
       "\n",
       "    .dataframe thead th {\n",
       "        text-align: right;\n",
       "    }\n",
       "</style>\n",
       "<table border=\"1\" class=\"dataframe\">\n",
       "  <thead>\n",
       "    <tr style=\"text-align: right;\">\n",
       "      <th></th>\n",
       "      <th>ID</th>\n",
       "      <th>Delivery_person_ID</th>\n",
       "      <th>Delivery_person_Age</th>\n",
       "      <th>Delivery_person_Ratings</th>\n",
       "      <th>Restaurant_latitude</th>\n",
       "      <th>Restaurant_longitude</th>\n",
       "      <th>Delivery_location_latitude</th>\n",
       "      <th>Delivery_location_longitude</th>\n",
       "      <th>Type_of_order</th>\n",
       "      <th>Type_of_vehicle</th>\n",
       "      <th>Time_taken(min)</th>\n",
       "    </tr>\n",
       "  </thead>\n",
       "  <tbody>\n",
       "    <tr>\n",
       "      <th>33434</th>\n",
       "      <td>8194</td>\n",
       "      <td>INDORES01DEL02</td>\n",
       "      <td>33</td>\n",
       "      <td>4.5</td>\n",
       "      <td>22.695207</td>\n",
       "      <td>75.866059</td>\n",
       "      <td>22.775207</td>\n",
       "      <td>75.946059</td>\n",
       "      <td>Meal</td>\n",
       "      <td>scooter</td>\n",
       "      <td>24</td>\n",
       "    </tr>\n",
       "    <tr>\n",
       "      <th>7709</th>\n",
       "      <td>8C40</td>\n",
       "      <td>CHENRES11DEL01</td>\n",
       "      <td>29</td>\n",
       "      <td>4.3</td>\n",
       "      <td>13.064181</td>\n",
       "      <td>80.236442</td>\n",
       "      <td>13.074181</td>\n",
       "      <td>80.246442</td>\n",
       "      <td>Buffet</td>\n",
       "      <td>motorcycle</td>\n",
       "      <td>27</td>\n",
       "    </tr>\n",
       "    <tr>\n",
       "      <th>39104</th>\n",
       "      <td>19C8</td>\n",
       "      <td>MUMRES04DEL02</td>\n",
       "      <td>29</td>\n",
       "      <td>4.3</td>\n",
       "      <td>19.254567</td>\n",
       "      <td>72.848923</td>\n",
       "      <td>19.274567</td>\n",
       "      <td>72.868923</td>\n",
       "      <td>Drinks</td>\n",
       "      <td>motorcycle</td>\n",
       "      <td>20</td>\n",
       "    </tr>\n",
       "    <tr>\n",
       "      <th>23289</th>\n",
       "      <td>CFD0</td>\n",
       "      <td>ALHRES06DEL02</td>\n",
       "      <td>22</td>\n",
       "      <td>4.8</td>\n",
       "      <td>0.000000</td>\n",
       "      <td>0.000000</td>\n",
       "      <td>0.020000</td>\n",
       "      <td>0.020000</td>\n",
       "      <td>Buffet</td>\n",
       "      <td>scooter</td>\n",
       "      <td>12</td>\n",
       "    </tr>\n",
       "    <tr>\n",
       "      <th>25111</th>\n",
       "      <td>5E1C</td>\n",
       "      <td>MUMRES15DEL02</td>\n",
       "      <td>31</td>\n",
       "      <td>4.2</td>\n",
       "      <td>19.176269</td>\n",
       "      <td>72.836721</td>\n",
       "      <td>19.256269</td>\n",
       "      <td>72.916721</td>\n",
       "      <td>Buffet</td>\n",
       "      <td>motorcycle</td>\n",
       "      <td>42</td>\n",
       "    </tr>\n",
       "  </tbody>\n",
       "</table>\n",
       "</div>"
      ],
      "text/plain": [
       "         ID Delivery_person_ID  Delivery_person_Age  Delivery_person_Ratings  \\\n",
       "33434  8194     INDORES01DEL02                   33                      4.5   \n",
       "7709   8C40     CHENRES11DEL01                   29                      4.3   \n",
       "39104  19C8      MUMRES04DEL02                   29                      4.3   \n",
       "23289  CFD0      ALHRES06DEL02                   22                      4.8   \n",
       "25111  5E1C      MUMRES15DEL02                   31                      4.2   \n",
       "\n",
       "       Restaurant_latitude  Restaurant_longitude  Delivery_location_latitude  \\\n",
       "33434            22.695207             75.866059                   22.775207   \n",
       "7709             13.064181             80.236442                   13.074181   \n",
       "39104            19.254567             72.848923                   19.274567   \n",
       "23289             0.000000              0.000000                    0.020000   \n",
       "25111            19.176269             72.836721                   19.256269   \n",
       "\n",
       "       Delivery_location_longitude Type_of_order Type_of_vehicle  \\\n",
       "33434                    75.946059         Meal         scooter    \n",
       "7709                     80.246442       Buffet      motorcycle    \n",
       "39104                    72.868923       Drinks      motorcycle    \n",
       "23289                     0.020000       Buffet         scooter    \n",
       "25111                    72.916721       Buffet      motorcycle    \n",
       "\n",
       "       Time_taken(min)  \n",
       "33434               24  \n",
       "7709                27  \n",
       "39104               20  \n",
       "23289               12  \n",
       "25111               42  "
      ]
     },
     "execution_count": 4,
     "metadata": {},
     "output_type": "execute_result"
    }
   ],
   "source": [
    "data.sample(5)"
   ]
  },
  {
   "cell_type": "code",
   "execution_count": 5,
   "id": "1a7c050b",
   "metadata": {},
   "outputs": [
    {
     "name": "stdout",
     "output_type": "stream",
     "text": [
      "<class 'pandas.core.frame.DataFrame'>\n",
      "RangeIndex: 45593 entries, 0 to 45592\n",
      "Data columns (total 11 columns):\n",
      " #   Column                       Non-Null Count  Dtype  \n",
      "---  ------                       --------------  -----  \n",
      " 0   ID                           45593 non-null  object \n",
      " 1   Delivery_person_ID           45593 non-null  object \n",
      " 2   Delivery_person_Age          45593 non-null  int64  \n",
      " 3   Delivery_person_Ratings      45593 non-null  float64\n",
      " 4   Restaurant_latitude          45593 non-null  float64\n",
      " 5   Restaurant_longitude         45593 non-null  float64\n",
      " 6   Delivery_location_latitude   45593 non-null  float64\n",
      " 7   Delivery_location_longitude  45593 non-null  float64\n",
      " 8   Type_of_order                45593 non-null  object \n",
      " 9   Type_of_vehicle              45593 non-null  object \n",
      " 10  Time_taken(min)              45593 non-null  int64  \n",
      "dtypes: float64(5), int64(2), object(4)\n",
      "memory usage: 3.8+ MB\n"
     ]
    }
   ],
   "source": [
    "data.info()"
   ]
  },
  {
   "cell_type": "code",
   "execution_count": 6,
   "id": "25679992",
   "metadata": {},
   "outputs": [
    {
     "data": {
      "text/plain": [
       "ID                             0\n",
       "Delivery_person_ID             0\n",
       "Delivery_person_Age            0\n",
       "Delivery_person_Ratings        0\n",
       "Restaurant_latitude            0\n",
       "Restaurant_longitude           0\n",
       "Delivery_location_latitude     0\n",
       "Delivery_location_longitude    0\n",
       "Type_of_order                  0\n",
       "Type_of_vehicle                0\n",
       "Time_taken(min)                0\n",
       "dtype: int64"
      ]
     },
     "execution_count": 6,
     "metadata": {},
     "output_type": "execute_result"
    }
   ],
   "source": [
    "data.isnull().sum()"
   ]
  },
  {
   "cell_type": "code",
   "execution_count": 7,
   "id": "43f5b7e5",
   "metadata": {},
   "outputs": [
    {
     "data": {
      "text/html": [
       "<div>\n",
       "<style scoped>\n",
       "    .dataframe tbody tr th:only-of-type {\n",
       "        vertical-align: middle;\n",
       "    }\n",
       "\n",
       "    .dataframe tbody tr th {\n",
       "        vertical-align: top;\n",
       "    }\n",
       "\n",
       "    .dataframe thead th {\n",
       "        text-align: right;\n",
       "    }\n",
       "</style>\n",
       "<table border=\"1\" class=\"dataframe\">\n",
       "  <thead>\n",
       "    <tr style=\"text-align: right;\">\n",
       "      <th></th>\n",
       "      <th>Delivery_person_Age</th>\n",
       "      <th>Delivery_person_Ratings</th>\n",
       "      <th>Restaurant_latitude</th>\n",
       "      <th>Restaurant_longitude</th>\n",
       "      <th>Delivery_location_latitude</th>\n",
       "      <th>Delivery_location_longitude</th>\n",
       "      <th>Time_taken(min)</th>\n",
       "    </tr>\n",
       "  </thead>\n",
       "  <tbody>\n",
       "    <tr>\n",
       "      <th>count</th>\n",
       "      <td>45593.000000</td>\n",
       "      <td>45593.000000</td>\n",
       "      <td>45593.000000</td>\n",
       "      <td>45593.000000</td>\n",
       "      <td>45593.000000</td>\n",
       "      <td>45593.000000</td>\n",
       "      <td>45593.000000</td>\n",
       "    </tr>\n",
       "    <tr>\n",
       "      <th>mean</th>\n",
       "      <td>29.544075</td>\n",
       "      <td>4.632367</td>\n",
       "      <td>17.017729</td>\n",
       "      <td>70.231332</td>\n",
       "      <td>17.465186</td>\n",
       "      <td>70.845702</td>\n",
       "      <td>26.294607</td>\n",
       "    </tr>\n",
       "    <tr>\n",
       "      <th>std</th>\n",
       "      <td>5.696793</td>\n",
       "      <td>0.327708</td>\n",
       "      <td>8.185109</td>\n",
       "      <td>22.883647</td>\n",
       "      <td>7.335122</td>\n",
       "      <td>21.118812</td>\n",
       "      <td>9.383806</td>\n",
       "    </tr>\n",
       "    <tr>\n",
       "      <th>min</th>\n",
       "      <td>15.000000</td>\n",
       "      <td>1.000000</td>\n",
       "      <td>-30.905562</td>\n",
       "      <td>-88.366217</td>\n",
       "      <td>0.010000</td>\n",
       "      <td>0.010000</td>\n",
       "      <td>10.000000</td>\n",
       "    </tr>\n",
       "    <tr>\n",
       "      <th>25%</th>\n",
       "      <td>25.000000</td>\n",
       "      <td>4.600000</td>\n",
       "      <td>12.933284</td>\n",
       "      <td>73.170000</td>\n",
       "      <td>12.988453</td>\n",
       "      <td>73.280000</td>\n",
       "      <td>19.000000</td>\n",
       "    </tr>\n",
       "    <tr>\n",
       "      <th>50%</th>\n",
       "      <td>29.000000</td>\n",
       "      <td>4.700000</td>\n",
       "      <td>18.546947</td>\n",
       "      <td>75.898497</td>\n",
       "      <td>18.633934</td>\n",
       "      <td>76.002574</td>\n",
       "      <td>26.000000</td>\n",
       "    </tr>\n",
       "    <tr>\n",
       "      <th>75%</th>\n",
       "      <td>34.000000</td>\n",
       "      <td>4.800000</td>\n",
       "      <td>22.728163</td>\n",
       "      <td>78.044095</td>\n",
       "      <td>22.785049</td>\n",
       "      <td>78.107044</td>\n",
       "      <td>32.000000</td>\n",
       "    </tr>\n",
       "    <tr>\n",
       "      <th>max</th>\n",
       "      <td>50.000000</td>\n",
       "      <td>6.000000</td>\n",
       "      <td>30.914057</td>\n",
       "      <td>88.433452</td>\n",
       "      <td>31.054057</td>\n",
       "      <td>88.563452</td>\n",
       "      <td>54.000000</td>\n",
       "    </tr>\n",
       "  </tbody>\n",
       "</table>\n",
       "</div>"
      ],
      "text/plain": [
       "       Delivery_person_Age  Delivery_person_Ratings  Restaurant_latitude  \\\n",
       "count         45593.000000             45593.000000         45593.000000   \n",
       "mean             29.544075                 4.632367            17.017729   \n",
       "std               5.696793                 0.327708             8.185109   \n",
       "min              15.000000                 1.000000           -30.905562   \n",
       "25%              25.000000                 4.600000            12.933284   \n",
       "50%              29.000000                 4.700000            18.546947   \n",
       "75%              34.000000                 4.800000            22.728163   \n",
       "max              50.000000                 6.000000            30.914057   \n",
       "\n",
       "       Restaurant_longitude  Delivery_location_latitude  \\\n",
       "count          45593.000000                45593.000000   \n",
       "mean              70.231332                   17.465186   \n",
       "std               22.883647                    7.335122   \n",
       "min              -88.366217                    0.010000   \n",
       "25%               73.170000                   12.988453   \n",
       "50%               75.898497                   18.633934   \n",
       "75%               78.044095                   22.785049   \n",
       "max               88.433452                   31.054057   \n",
       "\n",
       "       Delivery_location_longitude  Time_taken(min)  \n",
       "count                 45593.000000     45593.000000  \n",
       "mean                     70.845702        26.294607  \n",
       "std                      21.118812         9.383806  \n",
       "min                       0.010000        10.000000  \n",
       "25%                      73.280000        19.000000  \n",
       "50%                      76.002574        26.000000  \n",
       "75%                      78.107044        32.000000  \n",
       "max                      88.563452        54.000000  "
      ]
     },
     "execution_count": 7,
     "metadata": {},
     "output_type": "execute_result"
    }
   ],
   "source": [
    "data.describe()"
   ]
  },
  {
   "cell_type": "code",
   "execution_count": 8,
   "id": "c7f919ea",
   "metadata": {},
   "outputs": [
    {
     "data": {
      "text/html": [
       "<div>\n",
       "<style scoped>\n",
       "    .dataframe tbody tr th:only-of-type {\n",
       "        vertical-align: middle;\n",
       "    }\n",
       "\n",
       "    .dataframe tbody tr th {\n",
       "        vertical-align: top;\n",
       "    }\n",
       "\n",
       "    .dataframe thead th {\n",
       "        text-align: right;\n",
       "    }\n",
       "</style>\n",
       "<table border=\"1\" class=\"dataframe\">\n",
       "  <thead>\n",
       "    <tr style=\"text-align: right;\">\n",
       "      <th></th>\n",
       "      <th>ID</th>\n",
       "      <th>Delivery_person_ID</th>\n",
       "      <th>Type_of_order</th>\n",
       "      <th>Type_of_vehicle</th>\n",
       "    </tr>\n",
       "  </thead>\n",
       "  <tbody>\n",
       "    <tr>\n",
       "      <th>count</th>\n",
       "      <td>45593</td>\n",
       "      <td>45593</td>\n",
       "      <td>45593</td>\n",
       "      <td>45593</td>\n",
       "    </tr>\n",
       "    <tr>\n",
       "      <th>unique</th>\n",
       "      <td>45451</td>\n",
       "      <td>1320</td>\n",
       "      <td>4</td>\n",
       "      <td>4</td>\n",
       "    </tr>\n",
       "    <tr>\n",
       "      <th>top</th>\n",
       "      <td>7E+08</td>\n",
       "      <td>PUNERES01DEL01</td>\n",
       "      <td>Snack</td>\n",
       "      <td>motorcycle</td>\n",
       "    </tr>\n",
       "    <tr>\n",
       "      <th>freq</th>\n",
       "      <td>3</td>\n",
       "      <td>67</td>\n",
       "      <td>11533</td>\n",
       "      <td>26435</td>\n",
       "    </tr>\n",
       "  </tbody>\n",
       "</table>\n",
       "</div>"
      ],
      "text/plain": [
       "           ID Delivery_person_ID Type_of_order Type_of_vehicle\n",
       "count   45593              45593         45593           45593\n",
       "unique  45451               1320             4               4\n",
       "top     7E+08     PUNERES01DEL01        Snack      motorcycle \n",
       "freq        3                 67         11533           26435"
      ]
     },
     "execution_count": 8,
     "metadata": {},
     "output_type": "execute_result"
    }
   ],
   "source": [
    "data.describe(include = object)"
   ]
  },
  {
   "cell_type": "code",
   "execution_count": 9,
   "id": "527f984a",
   "metadata": {},
   "outputs": [
    {
     "data": {
      "text/plain": [
       "Snack      11533\n",
       "Meal       11458\n",
       "Drinks     11322\n",
       "Buffet     11280\n",
       "Name: Type_of_order, dtype: int64"
      ]
     },
     "execution_count": 9,
     "metadata": {},
     "output_type": "execute_result"
    }
   ],
   "source": [
    "data.Type_of_order.value_counts()"
   ]
  },
  {
   "cell_type": "code",
   "execution_count": 10,
   "id": "b299e41f",
   "metadata": {},
   "outputs": [
    {
     "data": {
      "image/png": "[encoded data removed]",
      "text/plain": [
       "<Figure size 432x432 with 1 Axes>"
      ]
     },
     "metadata": {
      "needs_background": "light"
     },
     "output_type": "display_data"
    }
   ],
   "source": [
    "plt.figure(figsize = (6, 6))\n",
    "ax = sbn.countplot(x = data.Type_of_order)\n",
    "ax.bar_label(ax.containers[0]);"
   ]
  },
  {
   "cell_type": "code",
   "execution_count": 11,
   "id": "64019c0f",
   "metadata": {},
   "outputs": [
    {
     "data": {
      "image/png": "[encoded data removed]",
      "text/plain": [
       "<Figure size 432x432 with 1 Axes>"
      ]
     },
     "metadata": {
      "needs_background": "light"
     },
     "output_type": "display_data"
    }
   ],
   "source": [
    "plt.figure(figsize = (6, 6))\n",
    "bx = sbn.countplot(x = data.Type_of_vehicle)\n",
    "bx.bar_label(bx.containers[0]);"
   ]
  },
  {
   "cell_type": "code",
   "execution_count": 12,
   "id": "81dad309",
   "metadata": {},
   "outputs": [
    {
     "data": {
      "text/plain": [
       "Index(['ID', 'Delivery_person_ID', 'Delivery_person_Age',\n",
       "       'Delivery_person_Ratings', 'Restaurant_latitude',\n",
       "       'Restaurant_longitude', 'Delivery_location_latitude',\n",
       "       'Delivery_location_longitude', 'Type_of_order', 'Type_of_vehicle',\n",
       "       'Time_taken(min)'],\n",
       "      dtype='object')"
      ]
     },
     "execution_count": 12,
     "metadata": {},
     "output_type": "execute_result"
    }
   ],
   "source": [
    "data.columns"
   ]
  },
  {
   "cell_type": "code",
   "execution_count": null,
   "id": "26ce1015",
   "metadata": {},
   "outputs": [],
   "source": [
    "fig = px.scatter(data_frame = data, y = 'Time_taken(min)', x = 'Delivery_person_Age',\n",
    "                 size = \"Time_taken(min)\", trendline = \"ols\",title = 'time taken according to vehicle', color=\"Type_of_vehicle\")\n",
    "fig.show()"
   ]
  },
  {
   "cell_type": "code",
   "execution_count": 14,
   "id": "5ee34fc9",
   "metadata": {},
   "outputs": [],
   "source": [
    "## Calculate the Distance using longtitude and latitude"
   ]
  },
  {
   "cell_type": "raw",
   "id": "e1398245",
   "metadata": {},
   "source": [
    "acos(sin(lat1)*sin(lat2)+cos(lat1)*cos(lat2)*cos(lon2-lon1))*6371"
   ]
  },
  {
   "cell_type": "code",
   "execution_count": 15,
   "id": "fa4c2aca",
   "metadata": {},
   "outputs": [],
   "source": [
    "def distance(lat1, lat2, lon1, lon2):\n",
    "    lat1_rad = math.radians(lat1)\n",
    "    lat2_rad = math.radians(lat2)\n",
    "    lon1_rad = math.radians(lon1)\n",
    "    lon2_rad = math.radians(lon2)\n",
    "    \n",
    "    distance = math.acos(math.sin(lat1_rad) * math.sin(lat2_rad) + math.cos(lat1_rad) * math.cos(lat2_rad) * math.cos(lon2_rad - lon1_rad)) * 6371\n",
    "    \n",
    "    return distance\n",
    "\n",
    "## math.acos fonksiyonu, radyan cinsinden bir açıyı döndürürken, np.sin ve np.cos fonksiyonları derece cinsinden çalışır"
   ]
  },
  {
   "cell_type": "code",
   "execution_count": 16,
   "id": "4fd35566",
   "metadata": {},
   "outputs": [],
   "source": [
    "data['Distance'] = np.nan\n",
    "\n",
    "for i in range(len(data)):\n",
    "    data.loc[i, 'Distance'] = distance(data.loc[i, 'Restaurant_latitude'], data.loc[i, 'Delivery_location_latitude'],\n",
    "                                       data.loc[i, 'Restaurant_longitude'], data.loc[i, 'Delivery_location_longitude'])"
   ]
  },
  {
   "cell_type": "code",
   "execution_count": 17,
   "id": "8b1e00d2",
   "metadata": {},
   "outputs": [
    {
     "data": {
      "text/plain": [
       "Index(['ID', 'Delivery_person_ID', 'Delivery_person_Age',\n",
       "       'Delivery_person_Ratings', 'Restaurant_latitude',\n",
       "       'Restaurant_longitude', 'Delivery_location_latitude',\n",
       "       'Delivery_location_longitude', 'Type_of_order', 'Type_of_vehicle',\n",
       "       'Time_taken(min)', 'Distance'],\n",
       "      dtype='object')"
      ]
     },
     "execution_count": 17,
     "metadata": {},
     "output_type": "execute_result"
    }
   ],
   "source": [
    "data.columns"
   ]
  },
  {
   "cell_type": "code",
   "execution_count": 18,
   "id": "4d23a434",
   "metadata": {},
   "outputs": [
    {
     "data": {
      "text/html": [
       "<div>\n",
       "<style scoped>\n",
       "    .dataframe tbody tr th:only-of-type {\n",
       "        vertical-align: middle;\n",
       "    }\n",
       "\n",
       "    .dataframe tbody tr th {\n",
       "        vertical-align: top;\n",
       "    }\n",
       "\n",
       "    .dataframe thead th {\n",
       "        text-align: right;\n",
       "    }\n",
       "</style>\n",
       "<table border=\"1\" class=\"dataframe\">\n",
       "  <thead>\n",
       "    <tr style=\"text-align: right;\">\n",
       "      <th></th>\n",
       "      <th>ID</th>\n",
       "      <th>Delivery_person_ID</th>\n",
       "      <th>Delivery_person_Age</th>\n",
       "      <th>Delivery_person_Ratings</th>\n",
       "      <th>Restaurant_latitude</th>\n",
       "      <th>Restaurant_longitude</th>\n",
       "      <th>Delivery_location_latitude</th>\n",
       "      <th>Delivery_location_longitude</th>\n",
       "      <th>Type_of_order</th>\n",
       "      <th>Type_of_vehicle</th>\n",
       "      <th>Time_taken(min)</th>\n",
       "      <th>Distance</th>\n",
       "    </tr>\n",
       "  </thead>\n",
       "  <tbody>\n",
       "    <tr>\n",
       "      <th>0</th>\n",
       "      <td>4607</td>\n",
       "      <td>INDORES13DEL02</td>\n",
       "      <td>37</td>\n",
       "      <td>4.9</td>\n",
       "      <td>22.745049</td>\n",
       "      <td>75.892471</td>\n",
       "      <td>22.765049</td>\n",
       "      <td>75.912471</td>\n",
       "      <td>Snack</td>\n",
       "      <td>motorcycle</td>\n",
       "      <td>24</td>\n",
       "      <td>3.025149</td>\n",
       "    </tr>\n",
       "    <tr>\n",
       "      <th>1</th>\n",
       "      <td>B379</td>\n",
       "      <td>BANGRES18DEL02</td>\n",
       "      <td>34</td>\n",
       "      <td>4.5</td>\n",
       "      <td>12.913041</td>\n",
       "      <td>77.683237</td>\n",
       "      <td>13.043041</td>\n",
       "      <td>77.813237</td>\n",
       "      <td>Snack</td>\n",
       "      <td>scooter</td>\n",
       "      <td>33</td>\n",
       "      <td>20.183530</td>\n",
       "    </tr>\n",
       "    <tr>\n",
       "      <th>2</th>\n",
       "      <td>5D6D</td>\n",
       "      <td>BANGRES19DEL01</td>\n",
       "      <td>23</td>\n",
       "      <td>4.4</td>\n",
       "      <td>12.914264</td>\n",
       "      <td>77.678400</td>\n",
       "      <td>12.924264</td>\n",
       "      <td>77.688400</td>\n",
       "      <td>Drinks</td>\n",
       "      <td>motorcycle</td>\n",
       "      <td>26</td>\n",
       "      <td>1.552758</td>\n",
       "    </tr>\n",
       "    <tr>\n",
       "      <th>3</th>\n",
       "      <td>7A6A</td>\n",
       "      <td>COIMBRES13DEL02</td>\n",
       "      <td>38</td>\n",
       "      <td>4.7</td>\n",
       "      <td>11.003669</td>\n",
       "      <td>76.976494</td>\n",
       "      <td>11.053669</td>\n",
       "      <td>77.026494</td>\n",
       "      <td>Buffet</td>\n",
       "      <td>motorcycle</td>\n",
       "      <td>21</td>\n",
       "      <td>7.790401</td>\n",
       "    </tr>\n",
       "    <tr>\n",
       "      <th>4</th>\n",
       "      <td>70A2</td>\n",
       "      <td>CHENRES12DEL01</td>\n",
       "      <td>32</td>\n",
       "      <td>4.6</td>\n",
       "      <td>12.972793</td>\n",
       "      <td>80.249982</td>\n",
       "      <td>13.012793</td>\n",
       "      <td>80.289982</td>\n",
       "      <td>Snack</td>\n",
       "      <td>scooter</td>\n",
       "      <td>30</td>\n",
       "      <td>6.210138</td>\n",
       "    </tr>\n",
       "  </tbody>\n",
       "</table>\n",
       "</div>"
      ],
      "text/plain": [
       "     ID Delivery_person_ID  Delivery_person_Age  Delivery_person_Ratings  \\\n",
       "0  4607     INDORES13DEL02                   37                      4.9   \n",
       "1  B379     BANGRES18DEL02                   34                      4.5   \n",
       "2  5D6D     BANGRES19DEL01                   23                      4.4   \n",
       "3  7A6A    COIMBRES13DEL02                   38                      4.7   \n",
       "4  70A2     CHENRES12DEL01                   32                      4.6   \n",
       "\n",
       "   Restaurant_latitude  Restaurant_longitude  Delivery_location_latitude  \\\n",
       "0            22.745049             75.892471                   22.765049   \n",
       "1            12.913041             77.683237                   13.043041   \n",
       "2            12.914264             77.678400                   12.924264   \n",
       "3            11.003669             76.976494                   11.053669   \n",
       "4            12.972793             80.249982                   13.012793   \n",
       "\n",
       "   Delivery_location_longitude Type_of_order Type_of_vehicle  Time_taken(min)  \\\n",
       "0                    75.912471        Snack      motorcycle                24   \n",
       "1                    77.813237        Snack         scooter                33   \n",
       "2                    77.688400       Drinks      motorcycle                26   \n",
       "3                    77.026494       Buffet      motorcycle                21   \n",
       "4                    80.289982        Snack         scooter                30   \n",
       "\n",
       "    Distance  \n",
       "0   3.025149  \n",
       "1  20.183530  \n",
       "2   1.552758  \n",
       "3   7.790401  \n",
       "4   6.210138  "
      ]
     },
     "execution_count": 18,
     "metadata": {},
     "output_type": "execute_result"
    }
   ],
   "source": [
    "data.head()"
   ]
  },
  {
   "cell_type": "code",
   "execution_count": null,
   "id": "cde1f3a3",
   "metadata": {},
   "outputs": [],
   "source": [
    "fig = px.scatter(data_frame = data, y = 'Time_taken(min)', x = 'Distance',\n",
    "                 size = \"Time_taken(min)\", trendline = \"ols\",title = 'time taken according to distance', color=\"Type_of_vehicle\")\n",
    "fig.show()"
   ]
  },
  {
   "cell_type": "code",
   "execution_count": null,
   "id": "b3476d23",
   "metadata": {},
   "outputs": [],
   "source": [
    "fig = px.scatter(data_frame = data, y = 'Delivery_person_Age', x = 'Distance',\n",
    "                 size = \"Time_taken(min)\", trendline = \"ols\",title = 'distance and age', color=\"Time_taken(min)\")\n",
    "fig.show()"
   ]
  },
  {
   "cell_type": "code",
   "execution_count": null,
   "id": "60e98ee0",
   "metadata": {},
   "outputs": [],
   "source": [
    "fig = px.scatter(data_frame = data, y = 'Time_taken(min)', x = 'Delivery_person_Ratings',\n",
    "                 size = \"Time_taken(min)\", trendline = \"ols\",title = 'distance and age', color=\"Delivery_person_Ratings\")\n",
    "fig.show()"
   ]
  },
  {
   "cell_type": "code",
   "execution_count": null,
   "id": "654856c0",
   "metadata": {},
   "outputs": [],
   "source": [
    "fig = px.scatter(data_frame = data, y = 'Time_taken(min)', x = 'Distance',\n",
    "                 size = \"Time_taken(min)\", trendline = \"ols\",title = 'distance and age', color=\"Delivery_person_Ratings\")\n",
    "fig.show()"
   ]
  },
  {
   "cell_type": "code",
   "execution_count": 23,
   "id": "c4339707",
   "metadata": {},
   "outputs": [
    {
     "data": {
      "text/plain": [
       "Index(['Delivery_person_Age', 'Delivery_person_Ratings', 'Type_of_order',\n",
       "       'Type_of_vehicle', 'Time_taken(min)', 'Distance'],\n",
       "      dtype='object')"
      ]
     },
     "execution_count": 23,
     "metadata": {},
     "output_type": "execute_result"
    }
   ],
   "source": [
    "df = data.drop(['ID', 'Delivery_person_ID','Restaurant_latitude',\n",
    "       'Restaurant_longitude', 'Delivery_location_latitude',\n",
    "       'Delivery_location_longitude'], axis = 1)\n",
    "df.columns"
   ]
  },
  {
   "cell_type": "code",
   "execution_count": 24,
   "id": "30b7e670",
   "metadata": {},
   "outputs": [
    {
     "data": {
      "image/png": "[encoded data removed]",
      "text/plain": [
       "<Figure size 576x432 with 2 Axes>"
      ]
     },
     "metadata": {
      "needs_background": "light"
     },
     "output_type": "display_data"
    }
   ],
   "source": [
    "plt.figure(figsize = (8, 6))\n",
    "sbn.heatmap(df.corr(), annot = True);"
   ]
  },
  {
   "cell_type": "code",
   "execution_count": 38,
   "id": "27dded3a",
   "metadata": {},
   "outputs": [
    {
     "data": {
      "text/plain": [
       "Delivery_person_Age        0.292708\n",
       "Delivery_person_Ratings   -0.331103\n",
       "Time_taken(min)            1.000000\n",
       "Distance                  -0.002508\n",
       "Name: Time_taken(min), dtype: float64"
      ]
     },
     "execution_count": 38,
     "metadata": {},
     "output_type": "execute_result"
    }
   ],
   "source": [
    "df.corr()['Time_taken(min)']"
   ]
  },
  {
   "cell_type": "code",
   "execution_count": 39,
   "id": "e9fb403d",
   "metadata": {},
   "outputs": [],
   "source": [
    "x = df.drop(['Time_taken(min)', 'Type_of_order'], axis = 1)\n",
    "y = df['Time_taken(min)']"
   ]
  },
  {
   "cell_type": "code",
   "execution_count": 40,
   "id": "e0699549",
   "metadata": {},
   "outputs": [
    {
     "data": {
      "text/plain": [
       "Index(['Delivery_person_Age', 'Delivery_person_Ratings', 'Type_of_order',\n",
       "       'Type_of_vehicle', 'Time_taken(min)', 'Distance'],\n",
       "      dtype='object')"
      ]
     },
     "execution_count": 40,
     "metadata": {},
     "output_type": "execute_result"
    }
   ],
   "source": [
    "df.columns"
   ]
  },
  {
   "cell_type": "code",
   "execution_count": 41,
   "id": "2e0c0308",
   "metadata": {},
   "outputs": [],
   "source": [
    "x = pd.get_dummies(x, drop_first = True)"
   ]
  },
  {
   "cell_type": "code",
   "execution_count": 42,
   "id": "9404c506",
   "metadata": {},
   "outputs": [
    {
     "data": {
      "text/html": [
       "<div>\n",
       "<style scoped>\n",
       "    .dataframe tbody tr th:only-of-type {\n",
       "        vertical-align: middle;\n",
       "    }\n",
       "\n",
       "    .dataframe tbody tr th {\n",
       "        vertical-align: top;\n",
       "    }\n",
       "\n",
       "    .dataframe thead th {\n",
       "        text-align: right;\n",
       "    }\n",
       "</style>\n",
       "<table border=\"1\" class=\"dataframe\">\n",
       "  <thead>\n",
       "    <tr style=\"text-align: right;\">\n",
       "      <th></th>\n",
       "      <th>Delivery_person_Age</th>\n",
       "      <th>Delivery_person_Ratings</th>\n",
       "      <th>Distance</th>\n",
       "      <th>Type_of_vehicle_electric_scooter</th>\n",
       "      <th>Type_of_vehicle_motorcycle</th>\n",
       "      <th>Type_of_vehicle_scooter</th>\n",
       "    </tr>\n",
       "  </thead>\n",
       "  <tbody>\n",
       "    <tr>\n",
       "      <th>0</th>\n",
       "      <td>37</td>\n",
       "      <td>4.9</td>\n",
       "      <td>3.025149</td>\n",
       "      <td>0</td>\n",
       "      <td>1</td>\n",
       "      <td>0</td>\n",
       "    </tr>\n",
       "    <tr>\n",
       "      <th>1</th>\n",
       "      <td>34</td>\n",
       "      <td>4.5</td>\n",
       "      <td>20.183530</td>\n",
       "      <td>0</td>\n",
       "      <td>0</td>\n",
       "      <td>1</td>\n",
       "    </tr>\n",
       "    <tr>\n",
       "      <th>2</th>\n",
       "      <td>23</td>\n",
       "      <td>4.4</td>\n",
       "      <td>1.552758</td>\n",
       "      <td>0</td>\n",
       "      <td>1</td>\n",
       "      <td>0</td>\n",
       "    </tr>\n",
       "    <tr>\n",
       "      <th>3</th>\n",
       "      <td>38</td>\n",
       "      <td>4.7</td>\n",
       "      <td>7.790401</td>\n",
       "      <td>0</td>\n",
       "      <td>1</td>\n",
       "      <td>0</td>\n",
       "    </tr>\n",
       "    <tr>\n",
       "      <th>4</th>\n",
       "      <td>32</td>\n",
       "      <td>4.6</td>\n",
       "      <td>6.210138</td>\n",
       "      <td>0</td>\n",
       "      <td>0</td>\n",
       "      <td>1</td>\n",
       "    </tr>\n",
       "    <tr>\n",
       "      <th>...</th>\n",
       "      <td>...</td>\n",
       "      <td>...</td>\n",
       "      <td>...</td>\n",
       "      <td>...</td>\n",
       "      <td>...</td>\n",
       "      <td>...</td>\n",
       "    </tr>\n",
       "    <tr>\n",
       "      <th>45588</th>\n",
       "      <td>30</td>\n",
       "      <td>4.8</td>\n",
       "      <td>1.489846</td>\n",
       "      <td>0</td>\n",
       "      <td>1</td>\n",
       "      <td>0</td>\n",
       "    </tr>\n",
       "    <tr>\n",
       "      <th>45589</th>\n",
       "      <td>21</td>\n",
       "      <td>4.6</td>\n",
       "      <td>11.007735</td>\n",
       "      <td>0</td>\n",
       "      <td>1</td>\n",
       "      <td>0</td>\n",
       "    </tr>\n",
       "    <tr>\n",
       "      <th>45590</th>\n",
       "      <td>30</td>\n",
       "      <td>4.9</td>\n",
       "      <td>4.657195</td>\n",
       "      <td>0</td>\n",
       "      <td>0</td>\n",
       "      <td>1</td>\n",
       "    </tr>\n",
       "    <tr>\n",
       "      <th>45591</th>\n",
       "      <td>20</td>\n",
       "      <td>4.7</td>\n",
       "      <td>6.232393</td>\n",
       "      <td>0</td>\n",
       "      <td>1</td>\n",
       "      <td>0</td>\n",
       "    </tr>\n",
       "    <tr>\n",
       "      <th>45592</th>\n",
       "      <td>23</td>\n",
       "      <td>4.9</td>\n",
       "      <td>12.074396</td>\n",
       "      <td>0</td>\n",
       "      <td>0</td>\n",
       "      <td>1</td>\n",
       "    </tr>\n",
       "  </tbody>\n",
       "</table>\n",
       "<p>45593 rows × 6 columns</p>\n",
       "</div>"
      ],
      "text/plain": [
       "       Delivery_person_Age  Delivery_person_Ratings   Distance  \\\n",
       "0                       37                      4.9   3.025149   \n",
       "1                       34                      4.5  20.183530   \n",
       "2                       23                      4.4   1.552758   \n",
       "3                       38                      4.7   7.790401   \n",
       "4                       32                      4.6   6.210138   \n",
       "...                    ...                      ...        ...   \n",
       "45588                   30                      4.8   1.489846   \n",
       "45589                   21                      4.6  11.007735   \n",
       "45590                   30                      4.9   4.657195   \n",
       "45591                   20                      4.7   6.232393   \n",
       "45592                   23                      4.9  12.074396   \n",
       "\n",
       "       Type_of_vehicle_electric_scooter   Type_of_vehicle_motorcycle   \\\n",
       "0                                      0                            1   \n",
       "1                                      0                            0   \n",
       "2                                      0                            1   \n",
       "3                                      0                            1   \n",
       "4                                      0                            0   \n",
       "...                                  ...                          ...   \n",
       "45588                                  0                            1   \n",
       "45589                                  0                            1   \n",
       "45590                                  0                            0   \n",
       "45591                                  0                            1   \n",
       "45592                                  0                            0   \n",
       "\n",
       "       Type_of_vehicle_scooter   \n",
       "0                             0  \n",
       "1                             1  \n",
       "2                             0  \n",
       "3                             0  \n",
       "4                             1  \n",
       "...                         ...  \n",
       "45588                         0  \n",
       "45589                         0  \n",
       "45590                         1  \n",
       "45591                         0  \n",
       "45592                         1  \n",
       "\n",
       "[45593 rows x 6 columns]"
      ]
     },
     "execution_count": 42,
     "metadata": {},
     "output_type": "execute_result"
    }
   ],
   "source": [
    "x"
   ]
  },
  {
   "cell_type": "code",
   "execution_count": 43,
   "id": "2172068e",
   "metadata": {},
   "outputs": [
    {
     "data": {
      "text/plain": [
       "0        24\n",
       "1        33\n",
       "2        26\n",
       "3        21\n",
       "4        30\n",
       "         ..\n",
       "45588    32\n",
       "45589    36\n",
       "45590    16\n",
       "45591    26\n",
       "45592    36\n",
       "Name: Time_taken(min), Length: 45593, dtype: int64"
      ]
     },
     "execution_count": 43,
     "metadata": {},
     "output_type": "execute_result"
    }
   ],
   "source": [
    "y"
   ]
  },
  {
   "cell_type": "code",
   "execution_count": 46,
   "id": "ff4d518d",
   "metadata": {},
   "outputs": [],
   "source": [
    "def regression(x, y):\n",
    "    lr = LinearRegression()\n",
    "    e = ElasticNet()\n",
    "    l = Lasso()\n",
    "    r = Ridge()\n",
    "    dt = DecisionTreeRegressor()\n",
    "    ab = AdaBoostRegressor()\n",
    "    gb = GradientBoostingRegressor()\n",
    "    rf = RandomForestRegressor(criterion = \"squared_error\")  ## {\"squared_error\", \"absolute_error\", \"friedman_mse\", \"poisson\"}\n",
    "    sv = SVR(kernel = 'linear')  ## {'linear', 'poly', 'rbf', 'sigmoid'}\n",
    "    \n",
    "    models = [lr, e, l, r, dt, ab, gb, rf, sv]\n",
    "    model_names = ['LinearRegression', 'ElasticNet', 'Lasso', 'Ridge', 'DecisionTree', 'AdaBoost', 'GradientBoost',\n",
    "                  'RandomForest', 'SupportVector']\n",
    "    r2 = []\n",
    "    mse = []\n",
    "    meap = []\n",
    "    \n",
    "    x_train, x_test, y_train, y_true = train_test_split(x, y, test_size = 0.2, random_state = 42)\n",
    "    x_train = MinMaxScaler().fit_transform(x_train)\n",
    "    x_test = MinMaxScaler().fit_transform(x_test)\n",
    "    \n",
    "    score = pd.DataFrame(columns = ['R2_Score', 'MeanSquared', 'MeanAbsolute'], index = model_names)\n",
    "    \n",
    "    for model in models:\n",
    "        model.fit(x_train, y_train)\n",
    "        y_pred = model.predict(x_test)\n",
    "        r2.append(r2_score(y_true, y_pred) * 100)\n",
    "        mse.append(mean_squared_error(y_true, y_pred) ** 0.5)\n",
    "        meap.append(mean_absolute_percentage_error(y_true, y_pred))\n",
    "    \n",
    "    score['R2_Score'] = r2\n",
    "    score['MeanSquared'] = mse\n",
    "    score['MeanAbsolute'] = meap\n",
    "    \n",
    "    return score.sort_values('R2_Score', ascending = False)"
   ]
  },
  {
   "cell_type": "code",
   "execution_count": 47,
   "id": "a8e9d0f6",
   "metadata": {},
   "outputs": [
    {
     "data": {
      "text/html": [
       "<div>\n",
       "<style scoped>\n",
       "    .dataframe tbody tr th:only-of-type {\n",
       "        vertical-align: middle;\n",
       "    }\n",
       "\n",
       "    .dataframe tbody tr th {\n",
       "        vertical-align: top;\n",
       "    }\n",
       "\n",
       "    .dataframe thead th {\n",
       "        text-align: right;\n",
       "    }\n",
       "</style>\n",
       "<table border=\"1\" class=\"dataframe\">\n",
       "  <thead>\n",
       "    <tr style=\"text-align: right;\">\n",
       "      <th></th>\n",
       "      <th>R2_Score</th>\n",
       "      <th>MeanSquared</th>\n",
       "      <th>MeanAbsolute</th>\n",
       "    </tr>\n",
       "  </thead>\n",
       "  <tbody>\n",
       "    <tr>\n",
       "      <th>GradientBoost</th>\n",
       "      <td>40.556750</td>\n",
       "      <td>7.219331</td>\n",
       "      <td>0.251803</td>\n",
       "    </tr>\n",
       "    <tr>\n",
       "      <th>AdaBoost</th>\n",
       "      <td>36.059604</td>\n",
       "      <td>7.487439</td>\n",
       "      <td>0.275922</td>\n",
       "    </tr>\n",
       "    <tr>\n",
       "      <th>RandomForest</th>\n",
       "      <td>24.813250</td>\n",
       "      <td>8.119257</td>\n",
       "      <td>0.277743</td>\n",
       "    </tr>\n",
       "    <tr>\n",
       "      <th>Ridge</th>\n",
       "      <td>20.307153</td>\n",
       "      <td>8.359019</td>\n",
       "      <td>0.294063</td>\n",
       "    </tr>\n",
       "    <tr>\n",
       "      <th>LinearRegression</th>\n",
       "      <td>20.304155</td>\n",
       "      <td>8.359177</td>\n",
       "      <td>0.293987</td>\n",
       "    </tr>\n",
       "    <tr>\n",
       "      <th>SupportVector</th>\n",
       "      <td>19.227031</td>\n",
       "      <td>8.415476</td>\n",
       "      <td>0.282347</td>\n",
       "    </tr>\n",
       "    <tr>\n",
       "      <th>ElasticNet</th>\n",
       "      <td>0.622405</td>\n",
       "      <td>9.334475</td>\n",
       "      <td>0.343430</td>\n",
       "    </tr>\n",
       "    <tr>\n",
       "      <th>Lasso</th>\n",
       "      <td>-0.001399</td>\n",
       "      <td>9.363726</td>\n",
       "      <td>0.344473</td>\n",
       "    </tr>\n",
       "    <tr>\n",
       "      <th>DecisionTree</th>\n",
       "      <td>-11.668389</td>\n",
       "      <td>9.894886</td>\n",
       "      <td>0.329215</td>\n",
       "    </tr>\n",
       "  </tbody>\n",
       "</table>\n",
       "</div>"
      ],
      "text/plain": [
       "                   R2_Score  MeanSquared  MeanAbsolute\n",
       "GradientBoost     40.556750     7.219331      0.251803\n",
       "AdaBoost          36.059604     7.487439      0.275922\n",
       "RandomForest      24.813250     8.119257      0.277743\n",
       "Ridge             20.307153     8.359019      0.294063\n",
       "LinearRegression  20.304155     8.359177      0.293987\n",
       "SupportVector     19.227031     8.415476      0.282347\n",
       "ElasticNet         0.622405     9.334475      0.343430\n",
       "Lasso             -0.001399     9.363726      0.344473\n",
       "DecisionTree     -11.668389     9.894886      0.329215"
      ]
     },
     "execution_count": 47,
     "metadata": {},
     "output_type": "execute_result"
    }
   ],
   "source": [
    "regression(x, y)"
   ]
  },
  {
   "cell_type": "code",
   "execution_count": 52,
   "id": "4d912834",
   "metadata": {},
   "outputs": [],
   "source": [
    "##Pycaret'a gorede en iyi sonucu GradientBoost verdi % 40.55 başarı"
   ]
  },
  {
   "cell_type": "markdown",
   "id": "875a5b33",
   "metadata": {},
   "source": [
    "![Pycaret](pycaret.png)\n"
   ]
  },
  {
   "cell_type": "code",
   "execution_count": 51,
   "id": "79a6fdb8",
   "metadata": {},
   "outputs": [],
   "source": [
    "# df.to_csv('pycaret.csv', index = False)"
   ]
  },
  {
   "cell_type": "code",
   "execution_count": 77,
   "id": "d3412733",
   "metadata": {},
   "outputs": [],
   "source": [
    "x_train, x_test, y_train, y_true = train_test_split(x, y, test_size = 0.3, random_state = 42)\n",
    "x_train = MinMaxScaler().fit_transform(x_train)\n",
    "x_test = MinMaxScaler().fit_transform(x_test)"
   ]
  },
  {
   "cell_type": "code",
   "execution_count": 85,
   "id": "ea452fcd",
   "metadata": {},
   "outputs": [],
   "source": [
    "model = Sequential()\n",
    "model.add(Dense(units = 124, activation = 'relu'))\n",
    "#model.add(Dropout(0.4))\n",
    "model.add(Dense(units = 256, activation = 'relu'))\n",
    "#model.add(Dropout(0.4))\n",
    "model.add(Dense(units = 512, activation = 'relu'))\n",
    "#model.add(Dropout(0.4))\n",
    "model.add(Dense(units = 124, activation = 'relu'))\n",
    "#model.add(Dropout(0.4))\n",
    "model.add(Dense(units = 30, activation = 'relu'))\n",
    "model.add(Dense(units = 1, activation = 'linear'))\n",
    "\n",
    "model.compile(loss = 'mse', metrics = 'MeanSquaredError', optimizer = 'adam')"
   ]
  },
  {
   "cell_type": "code",
   "execution_count": 86,
   "id": "cac9a626",
   "metadata": {},
   "outputs": [],
   "source": [
    "early_stopping = EarlyStopping(monitor = \"val_loss\", mode = \"min\", verbose = 1, patience = 25)"
   ]
  },
  {
   "cell_type": "code",
   "execution_count": 87,
   "id": "a55d380a",
   "metadata": {},
   "outputs": [
    {
     "name": "stdout",
     "output_type": "stream",
     "text": [
      "Epoch 1/200\n",
      "998/998 [==============================] - 3s 2ms/step - loss: 84.3866 - mean_squared_error: 84.3866 - val_loss: 69.9607 - val_mean_squared_error: 69.9607\n",
      "Epoch 2/200\n",
      "998/998 [==============================] - 2s 2ms/step - loss: 71.0444 - mean_squared_error: 71.0444 - val_loss: 70.1678 - val_mean_squared_error: 70.1678\n",
      "Epoch 3/200\n",
      "998/998 [==============================] - 2s 2ms/step - loss: 69.4174 - mean_squared_error: 69.4174 - val_loss: 66.8968 - val_mean_squared_error: 66.8968\n",
      "Epoch 4/200\n",
      "998/998 [==============================] - 2s 2ms/step - loss: 67.9392 - mean_squared_error: 67.9392 - val_loss: 69.0991 - val_mean_squared_error: 69.0991\n",
      "Epoch 5/200\n",
      "998/998 [==============================] - 2s 2ms/step - loss: 67.5701 - mean_squared_error: 67.5701 - val_loss: 66.0088 - val_mean_squared_error: 66.0088\n",
      "Epoch 6/200\n",
      "998/998 [==============================] - 2s 2ms/step - loss: 67.0467 - mean_squared_error: 67.0467 - val_loss: 70.4647 - val_mean_squared_error: 70.4647\n",
      "Epoch 7/200\n",
      "998/998 [==============================] - 2s 2ms/step - loss: 66.2569 - mean_squared_error: 66.2569 - val_loss: 66.8787 - val_mean_squared_error: 66.8787\n",
      "Epoch 8/200\n",
      "998/998 [==============================] - 2s 2ms/step - loss: 65.7804 - mean_squared_error: 65.7804 - val_loss: 65.1309 - val_mean_squared_error: 65.1309\n",
      "Epoch 9/200\n",
      "998/998 [==============================] - 2s 2ms/step - loss: 65.7004 - mean_squared_error: 65.7004 - val_loss: 64.6387 - val_mean_squared_error: 64.6387\n",
      "Epoch 10/200\n",
      "998/998 [==============================] - 2s 2ms/step - loss: 65.6617 - mean_squared_error: 65.6617 - val_loss: 71.1527 - val_mean_squared_error: 71.1527\n",
      "Epoch 11/200\n",
      "998/998 [==============================] - 2s 2ms/step - loss: 65.4721 - mean_squared_error: 65.4721 - val_loss: 66.1182 - val_mean_squared_error: 66.1182\n",
      "Epoch 12/200\n",
      "998/998 [==============================] - 2s 2ms/step - loss: 65.3285 - mean_squared_error: 65.3285 - val_loss: 65.2104 - val_mean_squared_error: 65.2104\n",
      "Epoch 13/200\n",
      "998/998 [==============================] - 2s 2ms/step - loss: 65.0599 - mean_squared_error: 65.0599 - val_loss: 64.8372 - val_mean_squared_error: 64.8372\n",
      "Epoch 14/200\n",
      "998/998 [==============================] - 2s 2ms/step - loss: 64.9799 - mean_squared_error: 64.9799 - val_loss: 69.1795 - val_mean_squared_error: 69.1795\n",
      "Epoch 15/200\n",
      "998/998 [==============================] - 2s 2ms/step - loss: 64.9197 - mean_squared_error: 64.9197 - val_loss: 64.9890 - val_mean_squared_error: 64.9890\n",
      "Epoch 16/200\n",
      "998/998 [==============================] - 2s 2ms/step - loss: 64.5173 - mean_squared_error: 64.5173 - val_loss: 65.2254 - val_mean_squared_error: 65.2254\n",
      "Epoch 17/200\n",
      "998/998 [==============================] - 2s 2ms/step - loss: 64.5423 - mean_squared_error: 64.5423 - val_loss: 65.5825 - val_mean_squared_error: 65.5825\n",
      "Epoch 18/200\n",
      "998/998 [==============================] - 2s 2ms/step - loss: 64.2963 - mean_squared_error: 64.2963 - val_loss: 64.7925 - val_mean_squared_error: 64.7925\n",
      "Epoch 19/200\n",
      "998/998 [==============================] - 2s 2ms/step - loss: 64.3165 - mean_squared_error: 64.3165 - val_loss: 63.5281 - val_mean_squared_error: 63.5281\n",
      "Epoch 20/200\n",
      "998/998 [==============================] - 2s 2ms/step - loss: 63.9942 - mean_squared_error: 63.9942 - val_loss: 63.9420 - val_mean_squared_error: 63.9420\n",
      "Epoch 21/200\n",
      "998/998 [==============================] - 2s 2ms/step - loss: 64.0469 - mean_squared_error: 64.0469 - val_loss: 63.0587 - val_mean_squared_error: 63.0587\n",
      "Epoch 22/200\n",
      "998/998 [==============================] - 2s 2ms/step - loss: 63.5613 - mean_squared_error: 63.5613 - val_loss: 63.3826 - val_mean_squared_error: 63.3826\n",
      "Epoch 23/200\n",
      "998/998 [==============================] - 2s 2ms/step - loss: 63.2707 - mean_squared_error: 63.2707 - val_loss: 63.4722 - val_mean_squared_error: 63.4722\n",
      "Epoch 24/200\n",
      "998/998 [==============================] - 2s 2ms/step - loss: 63.0098 - mean_squared_error: 63.0098 - val_loss: 63.5853 - val_mean_squared_error: 63.5853\n",
      "Epoch 25/200\n",
      "998/998 [==============================] - 2s 2ms/step - loss: 62.7389 - mean_squared_error: 62.7389 - val_loss: 63.1805 - val_mean_squared_error: 63.1805\n",
      "Epoch 26/200\n",
      "998/998 [==============================] - 2s 2ms/step - loss: 61.9921 - mean_squared_error: 61.9921 - val_loss: 62.7366 - val_mean_squared_error: 62.7366\n",
      "Epoch 27/200\n",
      "998/998 [==============================] - 2s 2ms/step - loss: 61.4496 - mean_squared_error: 61.4496 - val_loss: 60.8788 - val_mean_squared_error: 60.8788\n",
      "Epoch 28/200\n",
      "998/998 [==============================] - 2s 2ms/step - loss: 60.2744 - mean_squared_error: 60.2744 - val_loss: 59.6083 - val_mean_squared_error: 59.6083\n",
      "Epoch 29/200\n",
      "998/998 [==============================] - 2s 2ms/step - loss: 59.8682 - mean_squared_error: 59.8682 - val_loss: 60.0418 - val_mean_squared_error: 60.0418\n",
      "Epoch 30/200\n",
      "998/998 [==============================] - 2s 2ms/step - loss: 59.0535 - mean_squared_error: 59.0535 - val_loss: 59.2253 - val_mean_squared_error: 59.2253\n",
      "Epoch 31/200\n",
      "998/998 [==============================] - 2s 2ms/step - loss: 59.3399 - mean_squared_error: 59.3399 - val_loss: 57.7104 - val_mean_squared_error: 57.7104\n",
      "Epoch 32/200\n",
      "998/998 [==============================] - 2s 2ms/step - loss: 59.6397 - mean_squared_error: 59.6397 - val_loss: 62.8975 - val_mean_squared_error: 62.8975\n",
      "Epoch 33/200\n",
      "998/998 [==============================] - 2s 2ms/step - loss: 58.7168 - mean_squared_error: 58.7168 - val_loss: 57.9895 - val_mean_squared_error: 57.9895\n",
      "Epoch 34/200\n",
      "998/998 [==============================] - 2s 2ms/step - loss: 58.6075 - mean_squared_error: 58.6075 - val_loss: 57.4127 - val_mean_squared_error: 57.4127\n",
      "Epoch 35/200\n",
      "998/998 [==============================] - 2s 2ms/step - loss: 58.3413 - mean_squared_error: 58.3413 - val_loss: 59.2623 - val_mean_squared_error: 59.2623\n",
      "Epoch 36/200\n",
      "998/998 [==============================] - 2s 2ms/step - loss: 58.2388 - mean_squared_error: 58.2388 - val_loss: 56.7730 - val_mean_squared_error: 56.7730\n",
      "Epoch 37/200\n",
      "998/998 [==============================] - 2s 2ms/step - loss: 58.2070 - mean_squared_error: 58.2070 - val_loss: 57.9199 - val_mean_squared_error: 57.9199\n",
      "Epoch 38/200\n",
      "998/998 [==============================] - 2s 2ms/step - loss: 58.0139 - mean_squared_error: 58.0139 - val_loss: 65.6148 - val_mean_squared_error: 65.6148\n",
      "Epoch 39/200\n",
      "998/998 [==============================] - 2s 2ms/step - loss: 57.4818 - mean_squared_error: 57.4818 - val_loss: 57.4940 - val_mean_squared_error: 57.4940\n",
      "Epoch 40/200\n",
      "998/998 [==============================] - 2s 2ms/step - loss: 57.7002 - mean_squared_error: 57.7002 - val_loss: 57.3594 - val_mean_squared_error: 57.3594\n",
      "Epoch 41/200\n",
      "998/998 [==============================] - 2s 2ms/step - loss: 57.6021 - mean_squared_error: 57.6021 - val_loss: 56.6664 - val_mean_squared_error: 56.6664\n",
      "Epoch 42/200\n",
      "998/998 [==============================] - 2s 2ms/step - loss: 57.9943 - mean_squared_error: 57.9943 - val_loss: 60.7620 - val_mean_squared_error: 60.7620\n",
      "Epoch 43/200\n",
      "998/998 [==============================] - 2s 2ms/step - loss: 57.5148 - mean_squared_error: 57.5148 - val_loss: 56.2098 - val_mean_squared_error: 56.2098\n",
      "Epoch 44/200\n",
      "998/998 [==============================] - 2s 2ms/step - loss: 57.7085 - mean_squared_error: 57.7085 - val_loss: 58.0092 - val_mean_squared_error: 58.0092\n",
      "Epoch 45/200\n",
      "998/998 [==============================] - 2s 2ms/step - loss: 57.4202 - mean_squared_error: 57.4202 - val_loss: 58.2454 - val_mean_squared_error: 58.2454\n",
      "Epoch 46/200\n",
      "998/998 [==============================] - 2s 2ms/step - loss: 57.2443 - mean_squared_error: 57.2443 - val_loss: 57.4542 - val_mean_squared_error: 57.4542\n",
      "Epoch 47/200\n",
      "998/998 [==============================] - 2s 2ms/step - loss: 57.1209 - mean_squared_error: 57.1209 - val_loss: 57.6026 - val_mean_squared_error: 57.6026\n",
      "Epoch 48/200\n",
      "998/998 [==============================] - 2s 2ms/step - loss: 57.1547 - mean_squared_error: 57.1547 - val_loss: 56.8543 - val_mean_squared_error: 56.8543\n",
      "Epoch 49/200\n",
      "998/998 [==============================] - 2s 2ms/step - loss: 57.1334 - mean_squared_error: 57.1334 - val_loss: 57.2437 - val_mean_squared_error: 57.2437\n"
     ]
    },
    {
     "name": "stdout",
     "output_type": "stream",
     "text": [
      "Epoch 50/200\n",
      "998/998 [==============================] - 2s 2ms/step - loss: 57.2085 - mean_squared_error: 57.2085 - val_loss: 58.7583 - val_mean_squared_error: 58.7583\n",
      "Epoch 51/200\n",
      "998/998 [==============================] - 2s 2ms/step - loss: 56.8387 - mean_squared_error: 56.8387 - val_loss: 56.4730 - val_mean_squared_error: 56.4730\n",
      "Epoch 52/200\n",
      "998/998 [==============================] - 2s 2ms/step - loss: 57.0425 - mean_squared_error: 57.0425 - val_loss: 57.0410 - val_mean_squared_error: 57.0410\n",
      "Epoch 53/200\n",
      "998/998 [==============================] - 2s 2ms/step - loss: 57.2730 - mean_squared_error: 57.2730 - val_loss: 62.4007 - val_mean_squared_error: 62.4007\n",
      "Epoch 54/200\n",
      "998/998 [==============================] - 2s 2ms/step - loss: 56.5909 - mean_squared_error: 56.5909 - val_loss: 56.2988 - val_mean_squared_error: 56.2988\n",
      "Epoch 55/200\n",
      "998/998 [==============================] - 2s 2ms/step - loss: 56.7784 - mean_squared_error: 56.7784 - val_loss: 56.4561 - val_mean_squared_error: 56.4561\n",
      "Epoch 56/200\n",
      "998/998 [==============================] - 2s 2ms/step - loss: 56.6016 - mean_squared_error: 56.6016 - val_loss: 56.0787 - val_mean_squared_error: 56.0787\n",
      "Epoch 57/200\n",
      "998/998 [==============================] - 2s 2ms/step - loss: 56.5358 - mean_squared_error: 56.5358 - val_loss: 55.9181 - val_mean_squared_error: 55.9181\n",
      "Epoch 58/200\n",
      "998/998 [==============================] - 2s 2ms/step - loss: 56.7578 - mean_squared_error: 56.7578 - val_loss: 55.1676 - val_mean_squared_error: 55.1676\n",
      "Epoch 59/200\n",
      "998/998 [==============================] - 2s 2ms/step - loss: 56.4241 - mean_squared_error: 56.4241 - val_loss: 55.8786 - val_mean_squared_error: 55.8786\n",
      "Epoch 60/200\n",
      "998/998 [==============================] - 2s 2ms/step - loss: 56.3205 - mean_squared_error: 56.3205 - val_loss: 56.1787 - val_mean_squared_error: 56.1787\n",
      "Epoch 61/200\n",
      "998/998 [==============================] - 2s 2ms/step - loss: 56.3252 - mean_squared_error: 56.3252 - val_loss: 56.5551 - val_mean_squared_error: 56.5551\n",
      "Epoch 62/200\n",
      "998/998 [==============================] - 2s 2ms/step - loss: 56.5328 - mean_squared_error: 56.5328 - val_loss: 56.6434 - val_mean_squared_error: 56.6434\n",
      "Epoch 63/200\n",
      "998/998 [==============================] - 2s 2ms/step - loss: 56.0779 - mean_squared_error: 56.0779 - val_loss: 54.7329 - val_mean_squared_error: 54.7329\n",
      "Epoch 64/200\n",
      "998/998 [==============================] - 2s 2ms/step - loss: 56.3501 - mean_squared_error: 56.3501 - val_loss: 56.1098 - val_mean_squared_error: 56.1098\n",
      "Epoch 65/200\n",
      "998/998 [==============================] - 2s 2ms/step - loss: 56.0458 - mean_squared_error: 56.0458 - val_loss: 55.6788 - val_mean_squared_error: 55.6788\n",
      "Epoch 66/200\n",
      "998/998 [==============================] - 3s 3ms/step - loss: 56.6664 - mean_squared_error: 56.6664 - val_loss: 58.3117 - val_mean_squared_error: 58.3117\n",
      "Epoch 67/200\n",
      "998/998 [==============================] - 2s 2ms/step - loss: 56.1539 - mean_squared_error: 56.1539 - val_loss: 56.7476 - val_mean_squared_error: 56.7476\n",
      "Epoch 68/200\n",
      "998/998 [==============================] - 2s 2ms/step - loss: 56.3351 - mean_squared_error: 56.3351 - val_loss: 56.2455 - val_mean_squared_error: 56.2455\n",
      "Epoch 69/200\n",
      "998/998 [==============================] - 2s 2ms/step - loss: 56.1521 - mean_squared_error: 56.1521 - val_loss: 56.0940 - val_mean_squared_error: 56.0940\n",
      "Epoch 70/200\n",
      "998/998 [==============================] - 2s 2ms/step - loss: 55.7378 - mean_squared_error: 55.7378 - val_loss: 55.3143 - val_mean_squared_error: 55.3143\n",
      "Epoch 71/200\n",
      "998/998 [==============================] - 2s 2ms/step - loss: 56.0129 - mean_squared_error: 56.0129 - val_loss: 55.8879 - val_mean_squared_error: 55.8879\n",
      "Epoch 72/200\n",
      "998/998 [==============================] - 2s 2ms/step - loss: 55.7390 - mean_squared_error: 55.7390 - val_loss: 55.2913 - val_mean_squared_error: 55.2913\n",
      "Epoch 73/200\n",
      "998/998 [==============================] - 2s 2ms/step - loss: 55.5661 - mean_squared_error: 55.5661 - val_loss: 58.7557 - val_mean_squared_error: 58.7557\n",
      "Epoch 74/200\n",
      "998/998 [==============================] - 2s 2ms/step - loss: 56.1238 - mean_squared_error: 56.1238 - val_loss: 55.1915 - val_mean_squared_error: 55.1915\n",
      "Epoch 75/200\n",
      "998/998 [==============================] - 2s 2ms/step - loss: 55.9563 - mean_squared_error: 55.9563 - val_loss: 58.7230 - val_mean_squared_error: 58.7230\n",
      "Epoch 76/200\n",
      "998/998 [==============================] - 2s 2ms/step - loss: 55.7247 - mean_squared_error: 55.7247 - val_loss: 56.3261 - val_mean_squared_error: 56.3261\n",
      "Epoch 77/200\n",
      "998/998 [==============================] - 2s 2ms/step - loss: 55.8635 - mean_squared_error: 55.8635 - val_loss: 54.9764 - val_mean_squared_error: 54.9764\n",
      "Epoch 78/200\n",
      "998/998 [==============================] - 2s 2ms/step - loss: 55.7147 - mean_squared_error: 55.7147 - val_loss: 55.9891 - val_mean_squared_error: 55.9891\n",
      "Epoch 79/200\n",
      "998/998 [==============================] - 2s 2ms/step - loss: 55.5534 - mean_squared_error: 55.5534 - val_loss: 55.5922 - val_mean_squared_error: 55.5922\n",
      "Epoch 80/200\n",
      "998/998 [==============================] - 2s 2ms/step - loss: 55.9854 - mean_squared_error: 55.9854 - val_loss: 56.7580 - val_mean_squared_error: 56.7580\n",
      "Epoch 81/200\n",
      "998/998 [==============================] - 2s 2ms/step - loss: 55.8790 - mean_squared_error: 55.8790 - val_loss: 54.7830 - val_mean_squared_error: 54.7830\n",
      "Epoch 82/200\n",
      "998/998 [==============================] - 2s 2ms/step - loss: 55.9495 - mean_squared_error: 55.9495 - val_loss: 54.8184 - val_mean_squared_error: 54.8184\n",
      "Epoch 83/200\n",
      "998/998 [==============================] - 2s 2ms/step - loss: 55.3542 - mean_squared_error: 55.3542 - val_loss: 54.5148 - val_mean_squared_error: 54.5148\n",
      "Epoch 84/200\n",
      "998/998 [==============================] - 2s 2ms/step - loss: 55.6560 - mean_squared_error: 55.6560 - val_loss: 55.1813 - val_mean_squared_error: 55.1813\n",
      "Epoch 85/200\n",
      "998/998 [==============================] - 2s 2ms/step - loss: 55.5163 - mean_squared_error: 55.5163 - val_loss: 57.0654 - val_mean_squared_error: 57.0654\n",
      "Epoch 86/200\n",
      "998/998 [==============================] - 2s 2ms/step - loss: 55.7528 - mean_squared_error: 55.7528 - val_loss: 57.2391 - val_mean_squared_error: 57.2391\n",
      "Epoch 87/200\n",
      "998/998 [==============================] - 2s 2ms/step - loss: 55.9616 - mean_squared_error: 55.9616 - val_loss: 56.5917 - val_mean_squared_error: 56.5917\n",
      "Epoch 88/200\n",
      "998/998 [==============================] - 2s 2ms/step - loss: 55.7033 - mean_squared_error: 55.7033 - val_loss: 54.9496 - val_mean_squared_error: 54.9496\n",
      "Epoch 89/200\n",
      "998/998 [==============================] - 2s 2ms/step - loss: 55.6799 - mean_squared_error: 55.6799 - val_loss: 56.9992 - val_mean_squared_error: 56.9992\n",
      "Epoch 90/200\n",
      "998/998 [==============================] - 2s 2ms/step - loss: 55.6178 - mean_squared_error: 55.6178 - val_loss: 57.4090 - val_mean_squared_error: 57.4090\n",
      "Epoch 91/200\n",
      "998/998 [==============================] - 2s 2ms/step - loss: 55.4439 - mean_squared_error: 55.4439 - val_loss: 55.3428 - val_mean_squared_error: 55.3428\n",
      "Epoch 92/200\n",
      "998/998 [==============================] - 2s 2ms/step - loss: 55.3806 - mean_squared_error: 55.3806 - val_loss: 55.3938 - val_mean_squared_error: 55.3938\n",
      "Epoch 93/200\n",
      "998/998 [==============================] - 2s 2ms/step - loss: 55.4578 - mean_squared_error: 55.4578 - val_loss: 62.1106 - val_mean_squared_error: 62.1106\n",
      "Epoch 94/200\n",
      "998/998 [==============================] - 2s 2ms/step - loss: 55.5591 - mean_squared_error: 55.5591 - val_loss: 55.6617 - val_mean_squared_error: 55.6617\n",
      "Epoch 95/200\n",
      "998/998 [==============================] - 2s 2ms/step - loss: 55.5870 - mean_squared_error: 55.5870 - val_loss: 60.4020 - val_mean_squared_error: 60.4020\n",
      "Epoch 96/200\n",
      "998/998 [==============================] - 2s 2ms/step - loss: 55.3292 - mean_squared_error: 55.3292 - val_loss: 55.0498 - val_mean_squared_error: 55.0498\n",
      "Epoch 97/200\n",
      "998/998 [==============================] - 2s 2ms/step - loss: 55.5635 - mean_squared_error: 55.5635 - val_loss: 55.1339 - val_mean_squared_error: 55.1339\n",
      "Epoch 98/200\n",
      "998/998 [==============================] - 2s 2ms/step - loss: 55.3098 - mean_squared_error: 55.3098 - val_loss: 59.5664 - val_mean_squared_error: 59.5664\n"
     ]
    },
    {
     "name": "stdout",
     "output_type": "stream",
     "text": [
      "Epoch 99/200\n",
      "998/998 [==============================] - 2s 2ms/step - loss: 55.6399 - mean_squared_error: 55.6399 - val_loss: 57.2922 - val_mean_squared_error: 57.2922\n",
      "Epoch 100/200\n",
      "998/998 [==============================] - 2s 2ms/step - loss: 55.2485 - mean_squared_error: 55.2485 - val_loss: 56.0952 - val_mean_squared_error: 56.0952\n",
      "Epoch 101/200\n",
      "998/998 [==============================] - 2s 2ms/step - loss: 55.4461 - mean_squared_error: 55.4461 - val_loss: 55.3511 - val_mean_squared_error: 55.3511\n",
      "Epoch 102/200\n",
      "998/998 [==============================] - 2s 2ms/step - loss: 55.2077 - mean_squared_error: 55.2077 - val_loss: 56.5613 - val_mean_squared_error: 56.5613\n",
      "Epoch 103/200\n",
      "998/998 [==============================] - 2s 2ms/step - loss: 55.3071 - mean_squared_error: 55.3071 - val_loss: 54.9287 - val_mean_squared_error: 54.9287\n",
      "Epoch 104/200\n",
      "998/998 [==============================] - 2s 2ms/step - loss: 55.4995 - mean_squared_error: 55.4995 - val_loss: 56.0601 - val_mean_squared_error: 56.0601\n",
      "Epoch 105/200\n",
      "998/998 [==============================] - 2s 2ms/step - loss: 55.5658 - mean_squared_error: 55.5658 - val_loss: 55.2207 - val_mean_squared_error: 55.2207\n",
      "Epoch 106/200\n",
      "998/998 [==============================] - 2s 2ms/step - loss: 55.2749 - mean_squared_error: 55.2749 - val_loss: 55.8316 - val_mean_squared_error: 55.8316\n",
      "Epoch 107/200\n",
      "998/998 [==============================] - 2s 2ms/step - loss: 55.1099 - mean_squared_error: 55.1099 - val_loss: 56.0519 - val_mean_squared_error: 56.0519\n",
      "Epoch 108/200\n",
      "998/998 [==============================] - 2s 2ms/step - loss: 55.6817 - mean_squared_error: 55.6817 - val_loss: 56.9322 - val_mean_squared_error: 56.9322\n",
      "Epoch 108: early stopping\n"
     ]
    }
   ],
   "source": [
    "history = model.fit(x_train, y_train, epochs = 200, validation_data = (x_test, y_true), callbacks = [early_stopping], verbose = 1)"
   ]
  },
  {
   "cell_type": "code",
   "execution_count": 88,
   "id": "8e879700",
   "metadata": {},
   "outputs": [
    {
     "name": "stdout",
     "output_type": "stream",
     "text": [
      "428/428 [==============================] - 0s 869us/step\n"
     ]
    }
   ],
   "source": [
    "tahmin = model.predict(x_test)"
   ]
  },
  {
   "cell_type": "code",
   "execution_count": 89,
   "id": "b4d4b925",
   "metadata": {},
   "outputs": [
    {
     "data": {
      "text/plain": [
       "array([[34.74929 ],\n",
       "       [35.44293 ],\n",
       "       [37.298687],\n",
       "       ...,\n",
       "       [22.891672],\n",
       "       [25.366674],\n",
       "       [21.478722]], dtype=float32)"
      ]
     },
     "execution_count": 89,
     "metadata": {},
     "output_type": "execute_result"
    }
   ],
   "source": [
    "tahmin"
   ]
  },
  {
   "cell_type": "code",
   "execution_count": 90,
   "id": "b19b4d2d",
   "metadata": {},
   "outputs": [
    {
     "data": {
      "text/plain": [
       "0.35133374751664315"
      ]
     },
     "execution_count": 90,
     "metadata": {},
     "output_type": "execute_result"
    }
   ],
   "source": [
    "r2_score(y_true, tahmin)"
   ]
  },
  {
   "cell_type": "code",
   "execution_count": 91,
   "id": "87fc0815",
   "metadata": {},
   "outputs": [
    {
     "data": {
      "text/plain": [
       "<AxesSubplot:>"
      ]
     },
     "execution_count": 91,
     "metadata": {},
     "output_type": "execute_result"
    },
    {
     "data": {
      "image/png": "[encoded data removed]",
      "text/plain": [
       "<Figure size 432x288 with 1 Axes>"
      ]
     },
     "metadata": {
      "needs_background": "light"
     },
     "output_type": "display_data"
    }
   ],
   "source": [
    "loss = pd.DataFrame(history.history)\n",
    "loss.plot()"
   ]
  },
  {
   "cell_type": "code",
   "execution_count": 123,
   "id": "3b2ec25f",
   "metadata": {},
   "outputs": [],
   "source": [
    "## LSTM\n",
    "model2 = Sequential()\n",
    "model2.add(LSTM(units=124, return_sequences = True, input_shape=(x_train.shape[1], 1)))\n",
    "model2.add(LSTM(units=256, return_sequences = False))\n",
    "model2.add(Dense(units=512, activation='relu'))\n",
    "model2.add(Dense(units=124, activation='relu'))\n",
    "model2.add(Dense(units=30, activation='relu'))\n",
    "model2.add(Dense(units=1, activation='linear'))\n",
    "\n",
    "model2.compile(loss='mse', metrics=['MeanSquaredError'], optimizer='adam')\n"
   ]
  },
  {
   "cell_type": "code",
   "execution_count": 124,
   "id": "9c4df421",
   "metadata": {},
   "outputs": [
    {
     "name": "stdout",
     "output_type": "stream",
     "text": [
      "Model: \"sequential_15\"\n",
      "_________________________________________________________________\n",
      " Layer (type)                Output Shape              Param #   \n",
      "=================================================================\n",
      " lstm_8 (LSTM)               (None, 6, 124)            62496     \n",
      "                                                                 \n",
      " lstm_9 (LSTM)               (None, 256)               390144    \n",
      "                                                                 \n",
      " dense_73 (Dense)            (None, 512)               131584    \n",
      "                                                                 \n",
      " dense_74 (Dense)            (None, 124)               63612     \n",
      "                                                                 \n",
      " dense_75 (Dense)            (None, 30)                3750      \n",
      "                                                                 \n",
      " dense_76 (Dense)            (None, 1)                 31        \n",
      "                                                                 \n",
      "=================================================================\n",
      "Total params: 651,617\n",
      "Trainable params: 651,617\n",
      "Non-trainable params: 0\n",
      "_________________________________________________________________\n"
     ]
    }
   ],
   "source": [
    "model2.summary()"
   ]
  },
  {
   "cell_type": "code",
   "execution_count": 125,
   "id": "4f18ff5e",
   "metadata": {},
   "outputs": [
    {
     "name": "stdout",
     "output_type": "stream",
     "text": [
      "Epoch 1/5\n",
      "998/998 [==============================] - 47s 43ms/step - loss: 97.3363 - mean_squared_error: 97.3363 - val_loss: 87.1795 - val_mean_squared_error: 87.1795\n",
      "Epoch 2/5\n",
      "998/998 [==============================] - 38s 38ms/step - loss: 86.9377 - mean_squared_error: 86.9377 - val_loss: 86.3726 - val_mean_squared_error: 86.3726\n",
      "Epoch 3/5\n",
      "998/998 [==============================] - 39s 39ms/step - loss: 86.3197 - mean_squared_error: 86.3197 - val_loss: 82.8439 - val_mean_squared_error: 82.8439\n",
      "Epoch 4/5\n",
      "998/998 [==============================] - 40s 40ms/step - loss: 82.9782 - mean_squared_error: 82.9782 - val_loss: 79.6451 - val_mean_squared_error: 79.6451\n",
      "Epoch 5/5\n",
      "998/998 [==============================] - 39s 40ms/step - loss: 75.6468 - mean_squared_error: 75.6468 - val_loss: 72.0371 - val_mean_squared_error: 72.0371\n"
     ]
    }
   ],
   "source": [
    "history2 = model2.fit(x_train, y_train, epochs = 5, validation_data = (x_test, y_true), verbose = 1)"
   ]
  },
  {
   "cell_type": "code",
   "execution_count": 126,
   "id": "9f84b818",
   "metadata": {},
   "outputs": [
    {
     "name": "stdout",
     "output_type": "stream",
     "text": [
      "428/428 [==============================] - 7s 13ms/step\n"
     ]
    }
   ],
   "source": [
    "tahmin2 = model2.predict(x_test)"
   ]
  },
  {
   "cell_type": "code",
   "execution_count": 127,
   "id": "9e306098",
   "metadata": {},
   "outputs": [
    {
     "data": {
      "text/plain": [
       "17.923404266693176"
      ]
     },
     "execution_count": 127,
     "metadata": {},
     "output_type": "execute_result"
    }
   ],
   "source": [
    "r2_score(y_true, tahmin2) * 100"
   ]
  },
  {
   "cell_type": "code",
   "execution_count": 128,
   "id": "427a8012",
   "metadata": {},
   "outputs": [
    {
     "data": {
      "text/plain": [
       "<AxesSubplot:>"
      ]
     },
     "execution_count": 128,
     "metadata": {},
     "output_type": "execute_result"
    },
    {
     "data": {
      "image/png": "[encoded data removed]",
      "text/plain": [
       "<Figure size 432x288 with 1 Axes>"
      ]
     },
     "metadata": {
      "needs_background": "light"
     },
     "output_type": "display_data"
    }
   ],
   "source": [
    "loss2 = pd.DataFrame(history2.history)\n",
    "loss2.plot()"
   ]
  },
  {
   "cell_type": "code",
   "execution_count": null,
   "id": "b51eaff6",
   "metadata": {},
   "outputs": [],
   "source": []
  },
  {
   "cell_type": "code",
   "execution_count": null,
   "id": "2b16c376",
   "metadata": {},
   "outputs": [],
   "source": []
  }
 ],
 "metadata": {
  "kernelspec": {
   "display_name": "Python 3 (ipykernel)",
   "language": "python",
   "name": "python3"
  },
  "language_info": {
   "codemirror_mode": {
    "name": "ipython",
    "version": 3
   },
   "file_extension": ".py",
   "mimetype": "text/x-python",
   "name": "python",
   "nbconvert_exporter": "python",
   "pygments_lexer": "ipython3",
   "version": "3.9.12"
  }
 },
 "nbformat": 4,
 "nbformat_minor": 5
}
